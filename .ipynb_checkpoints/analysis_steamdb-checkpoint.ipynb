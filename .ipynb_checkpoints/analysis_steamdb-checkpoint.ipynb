{
 "cells": [
  {
   "cell_type": "markdown",
   "id": "6c8b7aea",
   "metadata": {},
   "source": [
    "\n",
    "# Steam Analysis — Trend of Video Games before and during COVID-19\n",
    "\n",
    "Scraping based on and adapted from Jack Etheredge's Steam Webscraping Linear Regression\n",
    "(See: https://www.github.com/Jack-Etheredge/Steam-Webscraping-Linear-Regression)"
   ]
  },
  {
   "cell_type": "markdown",
   "id": "190cef4b",
   "metadata": {},
   "source": [
    "\n",
    "# Libraries"
   ]
  },
  {
   "cell_type": "code",
   "execution_count": 2,
   "id": "6eccfe96",
   "metadata": {},
   "outputs": [],
   "source": [
    "import urllib\n",
    "import urllib.request\n",
    "from bs4 import BeautifulSoup"
   ]
  },
  {
   "cell_type": "markdown",
   "id": "4ef534b9",
   "metadata": {},
   "source": [
    "\n",
    "# Get list of games"
   ]
  },
  {
   "cell_type": "code",
   "execution_count": 8,
   "id": "f37711e9",
   "metadata": {},
   "outputs": [
    {
     "name": "stdout",
     "output_type": "stream",
     "text": [
      "['Back 4 Blood', 'Destiny 2', 'Counter-Strike: Global Offensive', 'New World', 'Apex Legends™', 'Demon Slayer -Kimetsu no Yaiba- The Hinokami Chronicles', 'FINAL FANTASY XIV Online', 'Dead by Daylight', 'Halo: The Master Chief Collection', 'Grand Theft Auto V', 'Sid Meier’s Civilization® VI', 'Team Fortress 2', 'The Elder Scrolls® Online', \"Tom Clancy's Rainbow Six® Siege\", 'Warframe', 'The Riftbreaker', 'Phasmophobia', 'Rust', 'War Thunder', 'Red Dead Redemption 2', 'Fallout 4', 'Sea of Thieves', 'Madden NFL 22', 'The Jackbox Party Pack 8', 'Dota 2']\n",
      "['The Sims™ 4', \"Baldur's Gate 3\", 'Borderlands 3', 'Bloons TD 6', 'NBA 2K22', 'Disco Elysium - The Final Cut', 'Black Desert', 'PUBG: BATTLEGROUNDS', 'Tales of Arise', 'Fallout 76', 'RimWorld', 'STAR WARS™: The Old Republic™', 'SMITE®', 'Timberborn', 'It Takes Two', 'Battlefield V', 'House Flipper', 'Pathfinder: Wrath of the Righteous', 'NARAKA: BLADEPOINT', 'Valheim', 'Microsoft Flight Simulator', 'Battlefield 4™', 'The Outer Worlds', 'Path of Exile', 'ARK: Survival Evolved']\n",
      "['American Truck Simulator', \"Assassin's Creed® Odyssey\", 'The Elder Scrolls V: Skyrim Special Edition', 'Noita', 'Stellaris', 'Hunt: Showdown', 'Stardew Valley', 'Hell Let Loose', 'DEATHLOOP', 'Planet Zoo', 'Call of Duty®: Black Ops III', 'Battlefield 1 ™', 'Cities: Skylines', 'Dying Light', 'World of Warships', 'BeamNG.drive', 'Insurgency: Sandstorm', 'Raft', 'Satisfactory', 'Nickelodeon All-Star Brawl', 'Cyberpunk 2077', 'Terraria', 'Gas Station Simulator', 'Yu-Gi-Oh! Duel Links', 'Total War: WARHAMMER II']\n",
      "['The Forest', 'Forza Horizon 4', 'Battlefield™ 2042', 'Car Mechanic Simulator 2021', 'PAYDAY 2', 'HOT WHEELS UNLEASHED™', 'Beat Saber', 'Monster Hunter: World', 'Factorio', 'Age of Darkness: Final Stand', 'Phantasy Star Online 2 New Genesis', 'Arma 3', 'DayZ', 'Minecraft Dungeons', 'Splitgate', 'Brawlhalla', 'Subnautica', 'Planet Coaster', 'Aliens: Fireteam Elite', 'Hearts of Iron IV', \"No Man's Sky\", 'Slay the Spire', 'Teardown', 'GUILTY GEAR -STRIVE-', 'Outer Wilds']\n",
      "['Batman™: Arkham Knight', 'Fallout: New Vegas', 'MELTY BLOOD: TYPE LUMINA', 'Mass Effect™ Legendary Edition', 'Forza Horizon 5', 'For The King', 'Fall Guys: Ultimate Knockout', 'Half-Life: Alyx', 'The Binding of Isaac: Rebirth', 'Divinity: Original Sin 2 - Definitive Edition', 'Borderlands 2', 'Crusader Kings III', 'HUMANKIND™', 'DCS World Steam Edition', 'Squad', 'F1® 2021', 'Deep Rock Galactic', 'Legion TD 2 - Multiplayer Tower Defense', 'Star Trek Online', 'theHunter: Call of the Wild™', 'SnowRunner', 'Life is Strange: True Colors', 'Left 4 Dead 2', \"Garry's Mod\", 'Hades']\n",
      "['Stormworks: Build and Rescue', 'Horizon Zero Dawn™ Complete Edition', 'Age of Empires II: Definitive Edition', 'The Witcher® 3: Wild Hunt', '7 Days to Die', 'Medieval Dynasty', 'Sekiro™: Shadows Die Twice - GOTY Edition', 'Europa Universalis IV', 'Tabletop Simulator', 'Risk of Rain 2', 'World War Z: Aftermath', 'DARK SOULS™ III', \"Assassin's Creed® Origins\", 'Grounded', 'Zero Hour', 'Potion Craft: Alchemist Simulator', 'A Total War Saga: TROY', 'DOOM Eternal', 'FOR HONOR™', 'Foxhole', 'Paladins®', 'World of Tanks Blitz', 'RuneScape ®', 'Subnautica: Below Zero', 'Killing Floor 2']\n",
      "['Age of Empires IV', 'Farming Simulator 19', 'BONEWORKS', 'Psychonauts 2', 'Mount & Blade II: Bannerlord', 'Surviving Mars', \"Don't Starve Together\", 'War Robots', 'PowerWash Simulator', 'MechWarrior 5: Mercenaries', 'Days Gone', 'MADNESS: Project Nexus', 'Monster Train', 'Gloomhaven', 'NARUTO TO BORUTO: SHINOBI STRIKER', 'Pavlov VR', 'Project Zomboid', 'Totally Accurate Battle Simulator', 'People Playground', 'Totally Accurate Battlegrounds', 'EA Play', 'RAILROADS Online!', 'Blade and Sorcery', \"Tom Clancy's Ghost Recon® Wildlands\", 'Assetto Corsa']\n",
      "['The Jackbox Party Pack 7', 'iRacing', 'BIGFOOT', 'Injustice™ 2', 'MONSTER HUNTER RISE', 'DARK SOULS™: REMASTERED', 'Wildermyth', 'DEVOUR', 'Space Engineers', 'Resident Evil Village', 'FOREWARNED', 'Among Us', 'SCUM', 'PICO PARK', 'Book of Travels', 'BioShock Infinite', 'Call of Duty®: Black Ops II', 'CarX Drift Racing Online', 'Tribes of Midgard', 'Phoenix Wright: Ace Attorney Trilogy', 'Middle-earth™: Shadow of War™', 'EVE Online', 'Torchlight III', 'Webbed', 'Assassin’s Creed® IV Black Flag™']\n",
      "['Super Monkey Ball Banana Mania', 'Red Dead Online', 'VRChat', 'Grim Dawn', 'Detroit: Become Human', 'Age of Empires III: Definitive Edition', 'Euro Truck Simulator 2', 'Realm of the Mad God Exalt', 'Fallout 3: Game of the Year Edition', 'Travellers Rest', 'SUCCUBUS', 'Road 96 🛣️', 'GTFO', 'Gang Beasts', 'Pummel Party', 'Conan Exiles', 'NARUTO SHIPPUDEN: Ultimate Ninja STORM 4', 'ASTRONEER', 'Wasteland 3', 'Sprocket', 'Total War: WARHAMMER', 'Warhammer: Vermintide 2', 'Gunfire Reborn', 'Nioh 2 – The Complete Edition', 'FIFA 22']\n",
      "['Vampire: The Masquerade - Bloodhunt', 'Bless Unleashed', 'Farming Simulator 22', 'Settlement Survival', 'BATTLETECH', \"Sid Meier's Civilization® V\", 'The Ascent', 'SCARLET NEXUS', 'Eastward', 'State of Decay 2: Juggernaut Edition', 'ELYON', 'Kerbal Space Program', 'Sniper Ghost Warrior Contracts 2', \"Despot's Game: Dystopian Army Builder\", 'They Are Billions', 'Undertale', 'Remnant: From the Ashes', 'Police Simulator: Patrol Officers', 'Darkest Dungeon®', 'Into the Breach', 'Golf With Your Friends', 'Elite Dangerous', 'The Jackbox Party Pack 3', 'STAR WARS Jedi: Fallen Order™', 'Metro Exodus']\n",
      "['Call of Duty®: Black Ops', 'Halo Infinite', 'Frostpunk', 'DEATH STRANDING', 'Hollow Knight', 'Total War™: ROME II - Emperor Edition', 'Far Cry® 5', 'Mortal Kombat\\xa011', 'Spelunky 2', 'Wizard101', 'Portal 2', 'NieR:Automata™', 'Mini Motorways', 'Legends of IdleOn - Idle MMO', 'The Elder Scrolls V: Skyrim VR', 'Going Medieval', 'Cookie Clicker', 'Poppy Playtime', 'STAR WARS™ Battlefront™ II', 'Ori and the Will of the Wisps', 'Stranded Deep', 'OMORI', 'Jurassic World Evolution 2', 'The Isle', 'Growing Up']\n",
      "['Last Epoch', 'Tetris® Effect: Connected', 'Devil May Cry 5', \"Conqueror's Blade\", 'Kingdom Come: Deliverance', 'Orcs Must Die! 3', 'Slime Rancher', 'Twelve Minutes', 'Total War: THREE KINGDOMS', 'HITMAN™ 2', 'Lost Ark', 'UNO', 'Mafia: Definitive Edition', 'Need for Speed™ Heat', 'Out of the Park Baseball 22', 'The Escapists 2', 'Train Simulator 2022', 'Soulworker', 'ICARUS', 'PGA TOUR 2K21', 'Dyson Sphere Program', 'Pathfinder: Kingmaker - Enhanced Plus Edition', \"Assassin's Creed® Unity\", 'Rivals of Aether', 'Legendary Tales']\n",
      "['Cuphead', 'Crossout', 'A Way Out', 'Lawn Mowing Simulator', 'NieR Replicant™ ver.1.22474487139...', 'Idle Champions of the Forgotten Realms', 'Muse Dash', 'Shop Titans', 'Cepheus Protocol', 'Northgard', 'Rocksmith® 2014 Edition - Remastered', 'PlanetSide 2', 'The Sims™ 3', 'Stick Fight: The Game', \"Marvel's Avengers\", 'Green Hell', 'Scrap Mechanic', 'Junkyard Simulator', 'Action Taimanin', 'The Lord of the Rings Online™', 'The Jackbox Party Pack 6', 'Resident Evil 7 Biohazard', 'Call of Duty®: Modern Warfare® 3', 'Batman™: Arkham Origins', 'Myst']\n",
      "['Monster Hunter Stories 2: Wings of Ruin', 'Assetto Corsa Competizione', 'ULTRAKILL', 'Prison Architect', 'Oxygen Not Included', 'DRAGON BALL FighterZ', 'Swords of Legends Online', 'Overcooked! 2', 'Control Ultimate Edition', 'The Great Ace Attorney Chronicles', 'The Jackbox Party Pack 5', \"Assassin's Creed® Syndicate\", 'Human: Fall Flat', 'Wreckfest', 'MIR4', 'I Am Fish', 'Neverwinter', 'Gladiator Guild Manager', 'Ghostrunner', 'Albion Online', 'The Elder Scrolls IV: Oblivion® Game of the Year Edition', 'The Elder Scrolls Online - Blackwood', 'Super Mecha Champions', 'TaleSpire', 'Borderlands: The Pre-Sequel']\n",
      "['Little Nightmares II', 'XCOM® 2', 'The Elder Scrolls IV: Oblivion® Game of the Year Edition Deluxe', 'Sun Haven', 'Mortal Shell', 'Operation: Tango', 'MapleStory', 'Eco', 'SPORE™', 'Inscryption', 'Persona 4 Golden', 'GrandChase', 'Dead Cells', 'Craftopia', 'Rebel Inc: Escalation', \"Death's Door\", 'Train Sim World® 2', 'Spiritfarer®', 'Yakuza: Like a Dragon', 'BRAVELY DEFAULT II', 'PC Building Simulator', 'Sable', 'TEKKEN 7', 'Borderlands Game of the Year', 'Jurassic World Evolution']\n",
      "['Friday the 13th: The Game', 'Street Fighter V', 'Tropico 6', 'Trove', 'Into the Radius VR', 'Ghost Hunters Corp', 'The Walking Dead: Saints & Sinners', 'Ultimate Chicken Horse', 'DRAGON BALL Z: KAKAROT', 'Labyrinthine', 'Titanfall® 2', 'FINAL FANTASY XV WINDOWS EDITION', 'F.I.S.T.: Forged In Shadow Torch', 'Universe Sandbox', 'Ranch Simulator', 'Kenshi', 'STORY OF SEASONS: Pioneers of Olive Town', 'Age of Wonders: Planetfall', 'Poly Bridge 2', 'FINAL FANTASY IV', 'Super Robot Wars 30', 'Hot Dogs, Horseshoes & Hand Grenades', 'War of Rights', 'The Forgotten City', 'Total War: ROME REMASTERED']\n"
     ]
    },
    {
     "name": "stdout",
     "output_type": "stream",
     "text": [
      "['Chernobylite', 'MX Bikes', 'DRAGON BALL XENOVERSE 2', 'Dark Deception', 'Rift Wizard', 'The Jackbox Party Pack 4', 'Call of Duty: World at War', 'Rogue Company', 'Black Mesa', 'Transport Fever 2', 'Football Manager 2022', 'Warhammer 40,000: Inquisitor - Martyr', 'Cooking Simulator VR', 'Company of Heroes 2', 'Dragon Age™ Inquisition', 'ENDER LILIES: Quietus of the Knights', 'The Survivalists', 'Crusader Kings II', 'Maneater', 'METAL GEAR SOLID V: THE PHANTOM PAIN', 'Barotrauma', 'Destroy All Humans!', 'Crush Crush', 'Castlevania Advance Collection', 'EARTH DEFENSE FORCE 5']\n",
      "['Tricky Towers', 'Fishing Planet', 'Dishonored 2', 'RollerCoaster Tycoon® 3: Complete Edition', 'DOOM', 'Kingdoms Reborn', 'Sid Meier’s Civilization® VI Anthology', 'Cooking Simulator', 'Lost in Random™', 'World of Tanks', 'Skater XL - The Ultimate Skateboarding Game', 'Grand Theft Auto V: Premium Edition', 'Fallout 4: Game of the Year Edition', 'Borderlands 3 Ultimate Edition', 'Battlefield Bundle', 'A Dance of Fire and Ice', 'Tormented Souls', 'Tails of Iron', 'Left 4 Dead', 'Phoenix Point: Year One Edition', 'House Party', 'Carrier Command 2', 'Torchlight II', 'Total War: SHOGUN 2', 'DRAGON QUEST® XI S: Echoes of an Elusive Age™ - Definitive Edition']\n",
      "['Call of Duty®: Modern Warfare® 2', 'Tree of Savior (English Ver.)', 'DUNGEON ENCOUNTERS', 'Vagrus - The Riven Realms', 'Fallout 4 VR', 'Townscaper', 'The Crew™ 2', 'Honey, I Joined a Cult', 'Golf It!', 'DARK SOULS™ II: Scholar of the First Sin', 'GROUND BRANCH', 'Rogue Lords', 'Door Kickers 2: Task Force North', 'South Park™: The Fractured But Whole™', 'ACE COMBAT™ 7: SKIES UNKNOWN', 'KovaaK 2.0', 'Caves of Qud', 'Lords Mobile', 'Getting Over It with Bennett Foddy', 'Grand Tactician: The Civil War (1861-1865)', 'Old School RuneScape', 'FTL: Faster Than Light', 'CODE VEIN', 'Resident Evil 2', 'BIOMUTANT']\n",
      "['Back 4 Blood', 'Destiny 2', 'Counter-Strike: Global Offensive', 'New World', 'Apex Legends™', 'Demon Slayer -Kimetsu no Yaiba- The Hinokami Chronicles', 'FINAL FANTASY XIV Online', 'Dead by Daylight', 'Halo: The Master Chief Collection', 'Grand Theft Auto V', 'Sid Meier’s Civilization® VI', 'Team Fortress 2', 'The Elder Scrolls® Online', \"Tom Clancy's Rainbow Six® Siege\", 'Warframe', 'The Riftbreaker', 'Phasmophobia', 'Rust', 'War Thunder', 'Red Dead Redemption 2', 'Fallout 4', 'Sea of Thieves', 'Madden NFL 22', 'The Jackbox Party Pack 8', 'Dota 2', 'The Sims™ 4', \"Baldur's Gate 3\", 'Borderlands 3', 'Bloons TD 6', 'NBA 2K22', 'Disco Elysium - The Final Cut', 'Black Desert', 'PUBG: BATTLEGROUNDS', 'Tales of Arise', 'Fallout 76', 'RimWorld', 'STAR WARS™: The Old Republic™', 'SMITE®', 'Timberborn', 'It Takes Two', 'Battlefield V', 'House Flipper', 'Pathfinder: Wrath of the Righteous', 'NARAKA: BLADEPOINT', 'Valheim', 'Microsoft Flight Simulator', 'Battlefield 4™', 'The Outer Worlds', 'Path of Exile', 'ARK: Survival Evolved', 'American Truck Simulator', \"Assassin's Creed® Odyssey\", 'The Elder Scrolls V: Skyrim Special Edition', 'Noita', 'Stellaris', 'Hunt: Showdown', 'Stardew Valley', 'Hell Let Loose', 'DEATHLOOP', 'Planet Zoo', 'Call of Duty®: Black Ops III', 'Battlefield 1 ™', 'Cities: Skylines', 'Dying Light', 'World of Warships', 'BeamNG.drive', 'Insurgency: Sandstorm', 'Raft', 'Satisfactory', 'Nickelodeon All-Star Brawl', 'Cyberpunk 2077', 'Terraria', 'Gas Station Simulator', 'Yu-Gi-Oh! Duel Links', 'Total War: WARHAMMER II', 'The Forest', 'Forza Horizon 4', 'Battlefield™ 2042', 'Car Mechanic Simulator 2021', 'PAYDAY 2', 'HOT WHEELS UNLEASHED™', 'Beat Saber', 'Monster Hunter: World', 'Factorio', 'Age of Darkness: Final Stand', 'Phantasy Star Online 2 New Genesis', 'Arma 3', 'DayZ', 'Minecraft Dungeons', 'Splitgate', 'Brawlhalla', 'Subnautica', 'Planet Coaster', 'Aliens: Fireteam Elite', 'Hearts of Iron IV', \"No Man's Sky\", 'Slay the Spire', 'Teardown', 'GUILTY GEAR -STRIVE-', 'Outer Wilds', 'Batman™: Arkham Knight', 'Fallout: New Vegas', 'MELTY BLOOD: TYPE LUMINA', 'Mass Effect™ Legendary Edition', 'Forza Horizon 5', 'For The King', 'Fall Guys: Ultimate Knockout', 'Half-Life: Alyx', 'The Binding of Isaac: Rebirth', 'Divinity: Original Sin 2 - Definitive Edition', 'Borderlands 2', 'Crusader Kings III', 'HUMANKIND™', 'DCS World Steam Edition', 'Squad', 'F1® 2021', 'Deep Rock Galactic', 'Legion TD 2 - Multiplayer Tower Defense', 'Star Trek Online', 'theHunter: Call of the Wild™', 'SnowRunner', 'Life is Strange: True Colors', 'Left 4 Dead 2', \"Garry's Mod\", 'Hades', 'Stormworks: Build and Rescue', 'Horizon Zero Dawn™ Complete Edition', 'Age of Empires II: Definitive Edition', 'The Witcher® 3: Wild Hunt', '7 Days to Die', 'Medieval Dynasty', 'Sekiro™: Shadows Die Twice - GOTY Edition', 'Europa Universalis IV', 'Tabletop Simulator', 'Risk of Rain 2', 'World War Z: Aftermath', 'DARK SOULS™ III', \"Assassin's Creed® Origins\", 'Grounded', 'Zero Hour', 'Potion Craft: Alchemist Simulator', 'A Total War Saga: TROY', 'DOOM Eternal', 'FOR HONOR™', 'Foxhole', 'Paladins®', 'World of Tanks Blitz', 'RuneScape ®', 'Subnautica: Below Zero', 'Killing Floor 2', 'Age of Empires IV', 'Farming Simulator 19', 'BONEWORKS', 'Psychonauts 2', 'Mount & Blade II: Bannerlord', 'Surviving Mars', \"Don't Starve Together\", 'War Robots', 'PowerWash Simulator', 'MechWarrior 5: Mercenaries', 'Days Gone', 'MADNESS: Project Nexus', 'Monster Train', 'Gloomhaven', 'NARUTO TO BORUTO: SHINOBI STRIKER', 'Pavlov VR', 'Project Zomboid', 'Totally Accurate Battle Simulator', 'People Playground', 'Totally Accurate Battlegrounds', 'EA Play', 'RAILROADS Online!', 'Blade and Sorcery', \"Tom Clancy's Ghost Recon® Wildlands\", 'Assetto Corsa', 'The Jackbox Party Pack 7', 'iRacing', 'BIGFOOT', 'Injustice™ 2', 'MONSTER HUNTER RISE', 'DARK SOULS™: REMASTERED', 'Wildermyth', 'DEVOUR', 'Space Engineers', 'Resident Evil Village', 'FOREWARNED', 'Among Us', 'SCUM', 'PICO PARK', 'Book of Travels', 'BioShock Infinite', 'Call of Duty®: Black Ops II', 'CarX Drift Racing Online', 'Tribes of Midgard', 'Phoenix Wright: Ace Attorney Trilogy', 'Middle-earth™: Shadow of War™', 'EVE Online', 'Torchlight III', 'Webbed', 'Assassin’s Creed® IV Black Flag™', 'Super Monkey Ball Banana Mania', 'Red Dead Online', 'VRChat', 'Grim Dawn', 'Detroit: Become Human', 'Age of Empires III: Definitive Edition', 'Euro Truck Simulator 2', 'Realm of the Mad God Exalt', 'Fallout 3: Game of the Year Edition', 'Travellers Rest', 'SUCCUBUS', 'Road 96 🛣️', 'GTFO', 'Gang Beasts', 'Pummel Party', 'Conan Exiles', 'NARUTO SHIPPUDEN: Ultimate Ninja STORM 4', 'ASTRONEER', 'Wasteland 3', 'Sprocket', 'Total War: WARHAMMER', 'Warhammer: Vermintide 2', 'Gunfire Reborn', 'Nioh 2 – The Complete Edition', 'FIFA 22', 'Vampire: The Masquerade - Bloodhunt', 'Bless Unleashed', 'Farming Simulator 22', 'Settlement Survival', 'BATTLETECH', \"Sid Meier's Civilization® V\", 'The Ascent', 'SCARLET NEXUS', 'Eastward', 'State of Decay 2: Juggernaut Edition', 'ELYON', 'Kerbal Space Program', 'Sniper Ghost Warrior Contracts 2', \"Despot's Game: Dystopian Army Builder\", 'They Are Billions', 'Undertale', 'Remnant: From the Ashes', 'Police Simulator: Patrol Officers', 'Darkest Dungeon®', 'Into the Breach', 'Golf With Your Friends', 'Elite Dangerous', 'The Jackbox Party Pack 3', 'STAR WARS Jedi: Fallen Order™', 'Metro Exodus', 'Call of Duty®: Black Ops', 'Halo Infinite', 'Frostpunk', 'DEATH STRANDING', 'Hollow Knight', 'Total War™: ROME II - Emperor Edition', 'Far Cry® 5', 'Mortal Kombat\\xa011', 'Spelunky 2', 'Wizard101', 'Portal 2', 'NieR:Automata™', 'Mini Motorways', 'Legends of IdleOn - Idle MMO', 'The Elder Scrolls V: Skyrim VR', 'Going Medieval', 'Cookie Clicker', 'Poppy Playtime', 'STAR WARS™ Battlefront™ II', 'Ori and the Will of the Wisps', 'Stranded Deep', 'OMORI', 'Jurassic World Evolution 2', 'The Isle', 'Growing Up', 'Last Epoch', 'Tetris® Effect: Connected', 'Devil May Cry 5', \"Conqueror's Blade\", 'Kingdom Come: Deliverance', 'Orcs Must Die! 3', 'Slime Rancher', 'Twelve Minutes', 'Total War: THREE KINGDOMS', 'HITMAN™ 2', 'Lost Ark', 'UNO', 'Mafia: Definitive Edition', 'Need for Speed™ Heat', 'Out of the Park Baseball 22', 'The Escapists 2', 'Train Simulator 2022', 'Soulworker', 'ICARUS', 'PGA TOUR 2K21', 'Dyson Sphere Program', 'Pathfinder: Kingmaker - Enhanced Plus Edition', \"Assassin's Creed® Unity\", 'Rivals of Aether', 'Legendary Tales', 'Cuphead', 'Crossout', 'A Way Out', 'Lawn Mowing Simulator', 'NieR Replicant™ ver.1.22474487139...', 'Idle Champions of the Forgotten Realms', 'Muse Dash', 'Shop Titans', 'Cepheus Protocol', 'Northgard', 'Rocksmith® 2014 Edition - Remastered', 'PlanetSide 2', 'The Sims™ 3', 'Stick Fight: The Game', \"Marvel's Avengers\", 'Green Hell', 'Scrap Mechanic', 'Junkyard Simulator', 'Action Taimanin', 'The Lord of the Rings Online™', 'The Jackbox Party Pack 6', 'Resident Evil 7 Biohazard', 'Call of Duty®: Modern Warfare® 3', 'Batman™: Arkham Origins', 'Myst', 'Monster Hunter Stories 2: Wings of Ruin', 'Assetto Corsa Competizione', 'ULTRAKILL', 'Prison Architect', 'Oxygen Not Included', 'DRAGON BALL FighterZ', 'Swords of Legends Online', 'Overcooked! 2', 'Control Ultimate Edition', 'The Great Ace Attorney Chronicles', 'The Jackbox Party Pack 5', \"Assassin's Creed® Syndicate\", 'Human: Fall Flat', 'Wreckfest', 'MIR4', 'I Am Fish', 'Neverwinter', 'Gladiator Guild Manager', 'Ghostrunner', 'Albion Online', 'The Elder Scrolls IV: Oblivion® Game of the Year Edition', 'The Elder Scrolls Online - Blackwood', 'Super Mecha Champions', 'TaleSpire', 'Borderlands: The Pre-Sequel', 'Little Nightmares II', 'XCOM® 2', 'The Elder Scrolls IV: Oblivion® Game of the Year Edition Deluxe', 'Sun Haven', 'Mortal Shell', 'Operation: Tango', 'MapleStory', 'Eco', 'SPORE™', 'Inscryption', 'Persona 4 Golden', 'GrandChase', 'Dead Cells', 'Craftopia', 'Rebel Inc: Escalation', \"Death's Door\", 'Train Sim World® 2', 'Spiritfarer®', 'Yakuza: Like a Dragon', 'BRAVELY DEFAULT II', 'PC Building Simulator', 'Sable', 'TEKKEN 7', 'Borderlands Game of the Year', 'Jurassic World Evolution', 'Friday the 13th: The Game', 'Street Fighter V', 'Tropico 6', 'Trove', 'Into the Radius VR', 'Ghost Hunters Corp', 'The Walking Dead: Saints & Sinners', 'Ultimate Chicken Horse', 'DRAGON BALL Z: KAKAROT', 'Labyrinthine', 'Titanfall® 2', 'FINAL FANTASY XV WINDOWS EDITION', 'F.I.S.T.: Forged In Shadow Torch', 'Universe Sandbox', 'Ranch Simulator', 'Kenshi', 'STORY OF SEASONS: Pioneers of Olive Town', 'Age of Wonders: Planetfall', 'Poly Bridge 2', 'FINAL FANTASY IV', 'Super Robot Wars 30', 'Hot Dogs, Horseshoes & Hand Grenades', 'War of Rights', 'The Forgotten City', 'Total War: ROME REMASTERED', 'Chernobylite', 'MX Bikes', 'DRAGON BALL XENOVERSE 2', 'Dark Deception', 'Rift Wizard', 'The Jackbox Party Pack 4', 'Call of Duty: World at War', 'Rogue Company', 'Black Mesa', 'Transport Fever 2', 'Football Manager 2022', 'Warhammer 40,000: Inquisitor - Martyr', 'Cooking Simulator VR', 'Company of Heroes 2', 'Dragon Age™ Inquisition', 'ENDER LILIES: Quietus of the Knights', 'The Survivalists', 'Crusader Kings II', 'Maneater', 'METAL GEAR SOLID V: THE PHANTOM PAIN', 'Barotrauma', 'Destroy All Humans!', 'Crush Crush', 'Castlevania Advance Collection', 'EARTH DEFENSE FORCE 5', 'Tricky Towers', 'Fishing Planet', 'Dishonored 2', 'RollerCoaster Tycoon® 3: Complete Edition', 'DOOM', 'Kingdoms Reborn', 'Sid Meier’s Civilization® VI Anthology', 'Cooking Simulator', 'Lost in Random™', 'World of Tanks', 'Skater XL - The Ultimate Skateboarding Game', 'Grand Theft Auto V: Premium Edition', 'Fallout 4: Game of the Year Edition', 'Borderlands 3 Ultimate Edition', 'Battlefield Bundle', 'A Dance of Fire and Ice', 'Tormented Souls', 'Tails of Iron', 'Left 4 Dead', 'Phoenix Point: Year One Edition', 'House Party', 'Carrier Command 2', 'Torchlight II', 'Total War: SHOGUN 2', 'DRAGON QUEST® XI S: Echoes of an Elusive Age™ - Definitive Edition', 'Call of Duty®: Modern Warfare® 2', 'Tree of Savior (English Ver.)', 'DUNGEON ENCOUNTERS', 'Vagrus - The Riven Realms', 'Fallout 4 VR', 'Townscaper', 'The Crew™ 2', 'Honey, I Joined a Cult', 'Golf It!', 'DARK SOULS™ II: Scholar of the First Sin', 'GROUND BRANCH', 'Rogue Lords', 'Door Kickers 2: Task Force North', 'South Park™: The Fractured But Whole™', 'ACE COMBAT™ 7: SKIES UNKNOWN', 'KovaaK 2.0', 'Caves of Qud', 'Lords Mobile', 'Getting Over It with Bennett Foddy', 'Grand Tactician: The Civil War (1861-1865)', 'Old School RuneScape', 'FTL: Faster Than Light', 'CODE VEIN', 'Resident Evil 2', 'BIOMUTANT']\n"
     ]
    }
   ],
   "source": [
    "list_games = []\n",
    "\n",
    "for page in range(1, 20):\n",
    "    bs = BeautifulSoup(urllib.request.urlopen('http://store.steampowered.com/search/?category1=998%2C996&page='+str(page)).read(), \"html.parser\")\n",
    "\n",
    "    games = bs.find_all(\"span\", {\"class\": \"title\"})\n",
    "    \n",
    "    games = [game.contents for game in games]\n",
    "    games = [game[0] for game in games]\n",
    "    \n",
    "    list_games.extend(games)\n",
    "    print(games)\n",
    "print(list_games)"
   ]
  },
  {
   "cell_type": "markdown",
   "id": "44d39824",
   "metadata": {},
   "source": [
    "\n",
    "# Get App IDs for those games"
   ]
  },
  {
   "cell_type": "code",
   "execution_count": 32,
   "id": "39dea96f",
   "metadata": {
    "scrolled": true
   },
   "outputs": [
    {
     "name": "stdout",
     "output_type": "stream",
     "text": [
      "['924970', '1085660', '730', '1063730', '1172470', '1490890', '39210', '381210', '976730', '271590', '289070', '440', '306130', '359550', '230410', '780310', '739630', '252490', '236390', '1174180', '377160', '1172620', '1519350', '570', '1552350']\n",
      "['1222670', '1086940', '397540', '960090', '632470', '1644960', '578080', '740130', '582660', '1151340', '1286830', '294100', '1238810', '1426210', '386360', '1062090', '613100', '892970', '1184370', '1238860', '1250410', '1203220', '578650', '346110', '238960']\n",
      "['812140', '413150', '881100', '281990', '270880', '594650', '489830', '686810', '1238840', '1252330', '311210', '703080', '239140', '255710', '284160', '552990', '1414850', '581320', '648800', '526870', '105600', '1091500', '1149620', '1517290', '594570']\n",
      "['1293830', '601510', '218620', '620980', '242760', '1271700', '1190000', '1426450', '427520', '107410', '264710', '582010', '291550', '275850', '1056640', '1672970', '1549970', '394360', '221100', '1384160', '1167630', '677620', '646570', '208650', '493340']\n",
      "['753640', '22380', '1372280', '1551360', '1328670', '527230', '1097150', '546560', '250900', '49520', '1124300', '1158310', '435150', '1465360', '469600', '1134570', '223750', '393380', '548430', '4000', '936790', '518790', '573090', '550', '9900']\n",
      "['1145360', '1151640', '813780', '292030', '251570', '1129580', '962130', '505460', '814380', '699130', '374320', '304390', '1359090', '582160', '632360', '782330', '848450', '1210320', '1099410', '286160', '444090', '823500', '1343400', '232090', '236850']\n",
      "['1466860', '322330', '787860', '444200', '464920', '1057090', '1259420', '261550', '1290000', '607080', '784080', '767560', '1102190', '488860', '1118200', '780290', '633230', '108600', '555160', '508440', '244210', '1289670', '629730', '1696810', '823130']\n",
      "['627270', '509980', '460930', '266410', '202970', '570940', '1211630', '763890', '1274570', '244850', '1446780', '440900', '945360', '1509960', '513710', '1562420', '8500', '8870', '787480', '933110', '858820', '635260', '1152340', '1196590', '219990']\n",
      "['1030210', '242050', '356190', '1390350', '1316910', '1404210', '227300', '493520', '438100', '1222140', '349040', '285900', '880940', '22370', '1254120', '1227280', '361420', '1139980', '985830', '719040', '200210', '1466640', '1674170', '1248130', '760160']\n",
      "['1506830', '1217060', '364360', '1509510', '1325200', '637090', '42700', '552500', '979690', '495420', '391540', '412020', '1240440', '644930', '1674470', '1172380', '1338770', '220200', '262060', '977880', '8930', '1190460', '617290', '214950', '997010']\n",
      "['367520', '323190', '431240', '976310', '590380', '359320', '799960', '1237950', '434170', '418530', '620', '775500', '524220', '552520', '1721470', '1127500', '1454400', '313120', '1150690', '1003590', '611670', '1029780', '376210', '1476970', '899770']\n",
      "['1244460', '433340', '1191120', '779340', '1097200', '379430', '601150', '905370', '863550', '1113560', '1222680', '1377580', '1149460', '386180', '1522820', '641990', '1030840', '1465070', '1366540', '1016120', '289650', '24010', '640820', '470220', '1222700']\n",
      "['1455660', '1480560', '383980', '466560', '1599340', '997070', '418370', '979640', '774171', '268910', '1335790', '674940', '627690', '1400970', '22330', '387990', '47890', '1255560', '221680', '1229490', '1258080', '671970', '815370', '42680', '209000']\n",
      "['212500', '233450', '228380', '457140', '1335200', '368500', '1418100', '1005300', '728880', '1623660', '477160', '805550', '1158850', '678950', '1472560', '870780', '588650', '1139900', '774461', '1277400', '109600', '1092790', '1432860', '17390', '860510']\n",
      "['268500', '22330', '1043260', '261640', '1110910', '720620', '1235140', '1282590', '216150', '1368910', '757310', '1307550', '761890', '382310', '1088790', '916840', '894020', '1113000', '304050', '985810', '8980', '972660', '492720', '1012790', '621060']\n",
      "['1302240', '438740', '1446650', '1618540', '1062160', '1237970', '389730', '648350', '310950', '851850', '1119730', '386940', '655500', '332950', '1016800', '874260', '1330470', '230290', '637650', '629820', '218230', '454650', '450540', '1271280', '718850']\n",
      "['898750', '885970', '1066780', '872200', '459820', '1392960', '1358140', '897450', '10090', '231430', '1173800', '233860', '602960', '610180', '380600', '424030', '1369630', '646910', '362890', '379720', '1569040', '1307890', '1552550', '1368820', '287700']\n",
      "['500', '803330', '403640', '1462570', '1489630', '1407200', '641320', '437920', '1222690', '1007040', '909660', '962730', '1283410', '527430', '977950', '203770', '377160,435870,435880,435881,480630,480631,490650', '1367590', '200710', '502500']\n",
      "['34330', '10180', '488790', '1069690', '611660', '571740', '611790', '1295510', '240720', '839770', '1291340', '824270', '1343370', '841190', '453480', '333640', '629760', '1049410', '1451080', '1041320', '335300', '837470', '1382330', '597820', '690830']\n",
      "['924970', '1085660', '730', '1063730', '1172470', '1490890', '39210', '381210', '976730', '271590', '289070', '440', '306130', '359550', '230410', '780310', '739630', '252490', '236390', '1174180', '377160', '1172620', '1519350', '570', '1552350', '1222670', '1086940', '397540', '960090', '632470', '1644960', '578080', '740130', '582660', '1151340', '1286830', '294100', '1238810', '1426210', '386360', '1062090', '613100', '892970', '1184370', '1238860', '1250410', '1203220', '578650', '346110', '238960', '812140', '413150', '881100', '281990', '270880', '594650', '489830', '686810', '1238840', '1252330', '311210', '703080', '239140', '255710', '284160', '552990', '1414850', '581320', '648800', '526870', '105600', '1091500', '1149620', '1517290', '594570', '1293830', '601510', '218620', '620980', '242760', '1271700', '1190000', '1426450', '427520', '107410', '264710', '582010', '291550', '275850', '1056640', '1672970', '1549970', '394360', '221100', '1384160', '1167630', '677620', '646570', '208650', '493340', '753640', '22380', '1372280', '1551360', '1328670', '527230', '1097150', '546560', '250900', '49520', '1124300', '1158310', '435150', '1465360', '469600', '1134570', '223750', '393380', '548430', '4000', '936790', '518790', '573090', '550', '9900', '1145360', '1151640', '813780', '292030', '251570', '1129580', '962130', '505460', '814380', '699130', '374320', '304390', '1359090', '582160', '632360', '782330', '848450', '1210320', '1099410', '286160', '444090', '823500', '1343400', '232090', '236850', '1466860', '322330', '787860', '444200', '464920', '1057090', '1259420', '261550', '1290000', '607080', '784080', '767560', '1102190', '488860', '1118200', '780290', '633230', '108600', '555160', '508440', '244210', '1289670', '629730', '1696810', '823130', '627270', '509980', '460930', '266410', '202970', '570940', '1211630', '763890', '1274570', '244850', '1446780', '440900', '945360', '1509960', '513710', '1562420', '8500', '8870', '787480', '933110', '858820', '635260', '1152340', '1196590', '219990', '1030210', '242050', '356190', '1390350', '1316910', '1404210', '227300', '493520', '438100', '1222140', '349040', '285900', '880940', '22370', '1254120', '1227280', '361420', '1139980', '985830', '719040', '200210', '1466640', '1674170', '1248130', '760160', '1506830', '1217060', '364360', '1509510', '1325200', '637090', '42700', '552500', '979690', '495420', '391540', '412020', '1240440', '644930', '1674470', '1172380', '1338770', '220200', '262060', '977880', '8930', '1190460', '617290', '214950', '997010', '367520', '323190', '431240', '976310', '590380', '359320', '799960', '1237950', '434170', '418530', '620', '775500', '524220', '552520', '1721470', '1127500', '1454400', '313120', '1150690', '1003590', '611670', '1029780', '376210', '1476970', '899770', '1244460', '433340', '1191120', '779340', '1097200', '379430', '601150', '905370', '863550', '1113560', '1222680', '1377580', '1149460', '386180', '1522820', '641990', '1030840', '1465070', '1366540', '1016120', '289650', '24010', '640820', '470220', '1222700', '1455660', '1480560', '383980', '466560', '1599340', '997070', '418370', '979640', '774171', '268910', '1335790', '674940', '627690', '1400970', '22330', '387990', '47890', '1255560', '221680', '1229490', '1258080', '671970', '815370', '42680', '209000', '212500', '233450', '228380', '457140', '1335200', '368500', '1418100', '1005300', '728880', '1623660', '477160', '805550', '1158850', '678950', '1472560', '870780', '588650', '1139900', '774461', '1277400', '109600', '1092790', '1432860', '17390', '860510', '268500', '22330', '1043260', '261640', '1110910', '720620', '1235140', '1282590', '216150', '1368910', '757310', '1307550', '761890', '382310', '1088790', '916840', '894020', '1113000', '304050', '985810', '8980', '972660', '492720', '1012790', '621060', '1302240', '438740', '1446650', '1618540', '1062160', '1237970', '389730', '648350', '310950', '851850', '1119730', '386940', '655500', '332950', '1016800', '874260', '1330470', '230290', '637650', '629820', '218230', '454650', '450540', '1271280', '718850', '898750', '885970', '1066780', '872200', '459820', '1392960', '1358140', '897450', '10090', '231430', '1173800', '233860', '602960', '610180', '380600', '424030', '1369630', '646910', '362890', '379720', '1569040', '1307890', '1552550', '1368820', '287700', '500', '803330', '403640', '1462570', '1489630', '1407200', '641320', '437920', '1222690', '1007040', '909660', '962730', '1283410', '527430', '977950', '203770', '377160,435870,435880,435881,480630,480631,490650', '1367590', '200710', '502500', '34330', '10180', '488790', '1069690', '611660', '571740', '611790', '1295510', '240720', '839770', '1291340', '824270', '1343370', '841190', '453480', '333640', '629760', '1049410', '1451080', '1041320', '335300', '837470', '1382330', '597820', '690830']\n"
     ]
    }
   ],
   "source": [
    "list_ids = []\n",
    "\n",
    "for page in range(1, 20):\n",
    "    bs = BeautifulSoup(urllib.request.urlopen('http://store.steampowered.com/search/?category1=998%2C996&page='+str(page)).read(), \"html.parser\")\n",
    "\n",
    "    ids = [r['data-ds-appid'] for r in bs.find_all(name=\"a\", attrs={\"data-ds-appid\":True})]\n",
    "    \n",
    "    list_ids.extend(ids)\n",
    "    print(ids)\n",
    "print(list_ids)"
   ]
  },
  {
   "cell_type": "markdown",
   "id": "c6062f44",
   "metadata": {},
   "source": [
    "\n",
    "# Scrape data in SteamDB based on App IDs\n",
    "\n",
    "For each ID, scrape data from https://steamdb.info/app/[APP_ID]/graphs/"
   ]
  },
  {
   "cell_type": "code",
   "execution_count": null,
   "id": "469af160",
   "metadata": {},
   "outputs": [],
   "source": []
  },
  {
   "cell_type": "code",
   "execution_count": null,
   "id": "221d4f16",
   "metadata": {},
   "outputs": [],
   "source": []
  }
 ],
 "metadata": {
  "kernelspec": {
   "display_name": "Python 3 (ipykernel)",
   "language": "python",
   "name": "python3"
  },
  "language_info": {
   "codemirror_mode": {
    "name": "ipython",
    "version": 3
   },
   "file_extension": ".py",
   "mimetype": "text/x-python",
   "name": "python",
   "nbconvert_exporter": "python",
   "pygments_lexer": "ipython3",
   "version": "3.8.10"
  }
 },
 "nbformat": 4,
 "nbformat_minor": 5
}
