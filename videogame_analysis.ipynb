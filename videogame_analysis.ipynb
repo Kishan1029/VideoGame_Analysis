{
 "cells": [
  {
   "cell_type": "code",
   "execution_count": 2,
   "id": "77e13474",
   "metadata": {},
   "outputs": [
    {
     "name": "stdout",
     "output_type": "stream",
     "text": [
      "<steamwebapi.api.ISteamUser object at 0x7fd98b6ea670>\n"
     ]
    }
   ],
   "source": [
    "from steamwebapi.api import ISteamUser, IPlayerService, ISteamUserStats\n",
    "import numpy as np\n",
    "import pandas as pd\n",
    "import json\n",
    "\n",
    "STEAM_API_KEY = 'D518AC94ECCEE3B45FC0DCA2334329B9'\n",
    "\n",
    "steamuserinfo = ISteamUser(steam_api_key=STEAM_API_KEY)\n",
    "print(steamuserinfo)"
   ]
  },
  {
   "cell_type": "code",
   "execution_count": null,
   "id": "937ea404",
   "metadata": {},
   "outputs": [],
   "source": []
  }
 ],
 "metadata": {
  "kernelspec": {
   "display_name": "Python 3 (ipykernel)",
   "language": "python",
   "name": "python3"
  },
  "language_info": {
   "codemirror_mode": {
    "name": "ipython",
    "version": 3
   },
   "file_extension": ".py",
   "mimetype": "text/x-python",
   "name": "python",
   "nbconvert_exporter": "python",
   "pygments_lexer": "ipython3",
   "version": "3.8.10"
  }
 },
 "nbformat": 4,
 "nbformat_minor": 5
}
