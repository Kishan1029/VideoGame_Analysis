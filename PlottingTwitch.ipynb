{
 "cells": [
  {
   "cell_type": "code",
   "execution_count": 1,
   "id": "e7b48452",
   "metadata": {},
   "outputs": [],
   "source": [
    "import numpy as np\n",
    "import pandas as pd\n",
    "import matplotlib.pyplot as plt"
   ]
  },
  {
   "cell_type": "code",
   "execution_count": 2,
   "id": "a66e6f32",
   "metadata": {},
   "outputs": [
    {
     "data": {
      "text/html": [
       "<div>\n",
       "<style scoped>\n",
       "    .dataframe tbody tr th:only-of-type {\n",
       "        vertical-align: middle;\n",
       "    }\n",
       "\n",
       "    .dataframe tbody tr th {\n",
       "        vertical-align: top;\n",
       "    }\n",
       "\n",
       "    .dataframe thead th {\n",
       "        text-align: right;\n",
       "    }\n",
       "</style>\n",
       "<table border=\"1\" class=\"dataframe\">\n",
       "  <thead>\n",
       "    <tr style=\"text-align: right;\">\n",
       "      <th></th>\n",
       "      <th>Rank</th>\n",
       "      <th>Game</th>\n",
       "      <th>Month</th>\n",
       "      <th>Year</th>\n",
       "      <th>Hours_watched</th>\n",
       "      <th>Hours_Streamed</th>\n",
       "      <th>Peak_viewers</th>\n",
       "      <th>Peak_channels</th>\n",
       "      <th>Streamers</th>\n",
       "      <th>Avg_viewers</th>\n",
       "      <th>Avg_channels</th>\n",
       "      <th>Avg_viewer_ratio</th>\n",
       "    </tr>\n",
       "  </thead>\n",
       "  <tbody>\n",
       "    <tr>\n",
       "      <th>0</th>\n",
       "      <td>1</td>\n",
       "      <td>League of Legends</td>\n",
       "      <td>1</td>\n",
       "      <td>2016</td>\n",
       "      <td>94377226</td>\n",
       "      <td>1362044 hours</td>\n",
       "      <td>530270</td>\n",
       "      <td>2903</td>\n",
       "      <td>129172</td>\n",
       "      <td>127021</td>\n",
       "      <td>1833</td>\n",
       "      <td>69.29</td>\n",
       "    </tr>\n",
       "    <tr>\n",
       "      <th>1</th>\n",
       "      <td>2</td>\n",
       "      <td>Counter-Strike: Global Offensive</td>\n",
       "      <td>1</td>\n",
       "      <td>2016</td>\n",
       "      <td>47832863</td>\n",
       "      <td>830105 hours</td>\n",
       "      <td>372654</td>\n",
       "      <td>2197</td>\n",
       "      <td>120849</td>\n",
       "      <td>64378</td>\n",
       "      <td>1117</td>\n",
       "      <td>57.62</td>\n",
       "    </tr>\n",
       "    <tr>\n",
       "      <th>2</th>\n",
       "      <td>3</td>\n",
       "      <td>Dota 2</td>\n",
       "      <td>1</td>\n",
       "      <td>2016</td>\n",
       "      <td>45185893</td>\n",
       "      <td>433397 hours</td>\n",
       "      <td>315083</td>\n",
       "      <td>1100</td>\n",
       "      <td>44074</td>\n",
       "      <td>60815</td>\n",
       "      <td>583</td>\n",
       "      <td>104.26</td>\n",
       "    </tr>\n",
       "    <tr>\n",
       "      <th>3</th>\n",
       "      <td>4</td>\n",
       "      <td>Hearthstone</td>\n",
       "      <td>1</td>\n",
       "      <td>2016</td>\n",
       "      <td>39936159</td>\n",
       "      <td>235903 hours</td>\n",
       "      <td>131357</td>\n",
       "      <td>517</td>\n",
       "      <td>36170</td>\n",
       "      <td>53749</td>\n",
       "      <td>317</td>\n",
       "      <td>169.29</td>\n",
       "    </tr>\n",
       "    <tr>\n",
       "      <th>4</th>\n",
       "      <td>5</td>\n",
       "      <td>Call of Duty: Black Ops III</td>\n",
       "      <td>1</td>\n",
       "      <td>2016</td>\n",
       "      <td>16153057</td>\n",
       "      <td>1151578 hours</td>\n",
       "      <td>71639</td>\n",
       "      <td>3620</td>\n",
       "      <td>214054</td>\n",
       "      <td>21740</td>\n",
       "      <td>1549</td>\n",
       "      <td>14.03</td>\n",
       "    </tr>\n",
       "  </tbody>\n",
       "</table>\n",
       "</div>"
      ],
      "text/plain": [
       "   Rank                              Game  Month  Year  Hours_watched  \\\n",
       "0     1                 League of Legends      1  2016       94377226   \n",
       "1     2  Counter-Strike: Global Offensive      1  2016       47832863   \n",
       "2     3                            Dota 2      1  2016       45185893   \n",
       "3     4                       Hearthstone      1  2016       39936159   \n",
       "4     5       Call of Duty: Black Ops III      1  2016       16153057   \n",
       "\n",
       "  Hours_Streamed  Peak_viewers  Peak_channels  Streamers  Avg_viewers  \\\n",
       "0  1362044 hours        530270           2903     129172       127021   \n",
       "1   830105 hours        372654           2197     120849        64378   \n",
       "2   433397 hours        315083           1100      44074        60815   \n",
       "3   235903 hours        131357            517      36170        53749   \n",
       "4  1151578 hours         71639           3620     214054        21740   \n",
       "\n",
       "   Avg_channels  Avg_viewer_ratio  \n",
       "0          1833             69.29  \n",
       "1          1117             57.62  \n",
       "2           583            104.26  \n",
       "3           317            169.29  \n",
       "4          1549             14.03  "
      ]
     },
     "execution_count": 2,
     "metadata": {},
     "output_type": "execute_result"
    }
   ],
   "source": [
    "data = pd.read_csv('Twitch_game_data.csv',encoding= 'unicode_escape')\n",
    "data.head()"
   ]
  },
  {
   "cell_type": "code",
   "execution_count": 70,
   "id": "d43b865a",
   "metadata": {},
   "outputs": [
    {
     "name": "stdout",
     "output_type": "stream",
     "text": [
      "[6952072, 8157652, 11651676, 13591594, 23075628, 22980336]\n",
      "[77947535, 86949453, 111386230, 115101162, 169234810, 165445612]\n",
      "[18906613, 22108397, 37225232, 40099136, 58503303, 54547164]\n"
     ]
    }
   ],
   "source": [
    "import csv\n",
    "\n",
    "Avg_viewers_list = []\n",
    "Avg_viewers_count = 0\n",
    "\n",
    "Peak_viewers_list = []\n",
    "Peak_viewers_count = 0\n",
    "\n",
    "Streamers_list = []\n",
    "Streamers_count = 0\n",
    "\n",
    "Years = []\n",
    "\n",
    "# starting year\n",
    "yr = 2016\n",
    "\n",
    "with open('Twitch_game_data.csv', newline='') as csvfile:\n",
    "    reader = csv.DictReader(csvfile)\n",
    "    for row in reader:\n",
    "        if yr == int(row['Year']):\n",
    "            # otherwise track count\n",
    "            Avg_viewers_count = Avg_viewers_count + int(row['Avg_viewers'])\n",
    "            Peak_viewers_count = Peak_viewers_count  + int(row['Peak_viewers'])\n",
    "            Streamers_count = Streamers_count + int(row['Streamers'])\n",
    "            continue\n",
    "        \n",
    "        # if year changes, insert to list, clear count, and increment year\n",
    "        if yr != int(row['Year']):\n",
    "            Avg_viewers_list.append(Avg_viewers_count)\n",
    "            Peak_viewers_list.append(Peak_viewers_count)\n",
    "            Streamers_list.append(Streamers_count)\n",
    "            \n",
    "            Avg_viewers_count = 0\n",
    "            Peak_viewers_count = 0\n",
    "            Streamers_count = 0\n",
    "            \n",
    "            Years.append(yr)\n",
    "            \n",
    "            yr = yr + 1\n",
    "    \n",
    "    # if we read EOF, append the last datum\n",
    "    Avg_viewers_list.append(Avg_viewers_count)\n",
    "    Peak_viewers_list.append(Peak_viewers_count)\n",
    "    Streamers_list.append(Streamers_count)\n",
    "    Years.append(yr)\n",
    "csvfile.close()\n",
    "        \n",
    "print(Avg_viewers_list)\n",
    "print(Peak_viewers_list)\n",
    "print(Streamers_list)"
   ]
  },
  {
   "cell_type": "code",
   "execution_count": 130,
   "id": "f7871685",
   "metadata": {},
   "outputs": [
    {
     "data": {
      "image/png": "[encoded data removed]",
      "text/plain": [
       "<Figure size 432x288 with 1 Axes>"
      ]
     },
     "metadata": {
      "needs_background": "light"
     },
     "output_type": "display_data"
    }
   ],
   "source": [
    "#Avg_viewers_dict = dict(zip(Years, Avg_viewers_list))\n",
    "#print(Avg_viewers_dict)\n",
    "\n",
    "plt.bar(Years, Avg_viewers_list, color='chartreuse', width=0.5)\n",
    "plt.xlabel('Years')\n",
    "plt.ylabel('Average viewers (ten millions)')\n",
    "plt.title('Total Average Livestream Views on Twitch')\n",
    "plt.show()"
   ]
  },
  {
   "cell_type": "code",
   "execution_count": 127,
   "id": "8bc070d9",
   "metadata": {},
   "outputs": [
    {
     "data": {
      "image/png": "[encoded data removed]",
      "text/plain": [
       "<Figure size 432x288 with 1 Axes>"
      ]
     },
     "metadata": {
      "needs_background": "light"
     },
     "output_type": "display_data"
    }
   ],
   "source": [
    "plt.bar(Years, Peak_viewers_list, color='darkslategrey', width=0.5)\n",
    "plt.xlabel('Years')\n",
    "plt.ylabel('Peak viewers (hundred millions)')\n",
    "plt.title('Total Peak Livestream Views on Twitch')\n",
    "plt.show()"
   ]
  },
  {
   "cell_type": "code",
   "execution_count": 126,
   "id": "58235a11",
   "metadata": {},
   "outputs": [
    {
     "data": {
      "image/png": "[encoded data removed]",
      "text/plain": [
       "<Figure size 432x288 with 1 Axes>"
      ]
     },
     "metadata": {
      "needs_background": "light"
     },
     "output_type": "display_data"
    }
   ],
   "source": [
    "plt.bar(Years, Streamers_list, color='#6441a5', width=0.5)\n",
    "plt.xlabel('Years')\n",
    "plt.ylabel('Streamers (ten millions)')\n",
    "plt.title('Total Number of Streamers Active on Twitch')\n",
    "plt.show()"
   ]
  },
  {
   "cell_type": "code",
   "execution_count": 119,
   "id": "e21f97d3",
   "metadata": {
    "scrolled": true
   },
   "outputs": [],
   "source": [
    "def plotByDifference(list, time, title, xlabel, ylabel):\n",
    "    Diff_list = []\n",
    "    Diff_time = []\n",
    "    \n",
    "    for i in range(1, len(list)):\n",
    "        Diff_list.append(list[i]-list[i-1])\n",
    "        Diff_time.append(str(time[i-1]) + '-' + str(time[i]))\n",
    "\n",
    "    colors = []\n",
    "    for element in Diff_list:\n",
    "        if element < 0:\n",
    "            colors.append('red')\n",
    "        else:\n",
    "            colors.append('darkcyan')\n",
    "\n",
    "    plt.bar(Diff_time, Diff_list, color=colors, width=0.5)\n",
    "    plt.xlabel(xlabel)\n",
    "    plt.ylabel(ylabel)\n",
    "    plt.axhline(y=0, color='k', linewidth=0.5, linestyle='-')\n",
    "    plt.title(title)\n",
    "    plt.show()\n",
    "\n",
    "    colors = []"
   ]
  },
  {
   "cell_type": "code",
   "execution_count": 123,
   "id": "cbdb46d7",
   "metadata": {},
   "outputs": [
    {
     "data": {
      "image/png": "[encoded data removed]",
      "text/plain": [
       "<Figure size 432x288 with 1 Axes>"
      ]
     },
     "metadata": {
      "needs_background": "light"
     },
     "output_type": "display_data"
    }
   ],
   "source": [
    "plotByDifference(Avg_viewers_list, Years, 'Average Viewer Growth Between Years', 'Years', 'Average Viewers (millions)')"
   ]
  },
  {
   "cell_type": "code",
   "execution_count": 124,
   "id": "9c720eb8",
   "metadata": {},
   "outputs": [
    {
     "data": {
      "image/png": "[encoded data removed]",
      "text/plain": [
       "<Figure size 432x288 with 1 Axes>"
      ]
     },
     "metadata": {
      "needs_background": "light"
     },
     "output_type": "display_data"
    }
   ],
   "source": [
    "plotByDifference(Peak_viewers_list, Years, 'Peak Viewer Growth Between Years', 'Years', 'Peak Viewers (millions)')"
   ]
  },
  {
   "cell_type": "code",
   "execution_count": 125,
   "id": "7b8a0ce0",
   "metadata": {},
   "outputs": [
    {
     "data": {
      "image/png": "[encoded data removed]",
      "text/plain": [
       "<Figure size 432x288 with 1 Axes>"
      ]
     },
     "metadata": {
      "needs_background": "light"
     },
     "output_type": "display_data"
    }
   ],
   "source": [
    "plotByDifference(Streamers_list, Years, 'Streamer Growth Between Years', 'Years', 'Streamers (millions)')"
   ]
  },
  {
   "cell_type": "code",
   "execution_count": null,
   "id": "2789ad84",
   "metadata": {},
   "outputs": [],
   "source": []
  }
 ],
 "metadata": {
  "kernelspec": {
   "display_name": "Python 3 (ipykernel)",
   "language": "python",
   "name": "python3"
  },
  "language_info": {
   "codemirror_mode": {
    "name": "ipython",
    "version": 3
   },
   "file_extension": ".py",
   "mimetype": "text/x-python",
   "name": "python",
   "nbconvert_exporter": "python",
   "pygments_lexer": "ipython3",
   "version": "3.8.10"
  }
 },
 "nbformat": 4,
 "nbformat_minor": 5
}
