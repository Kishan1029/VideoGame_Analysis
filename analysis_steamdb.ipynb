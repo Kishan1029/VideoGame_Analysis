{
 "cells": [
  {
   "cell_type": "markdown",
   "id": "6c8b7aea",
   "metadata": {},
   "source": [
    "\n",
    "# Steam Analysis — Trend of Video Games before and during COVID-19\n",
    "\n",
    "Scraping based on and adapted from Jack Etheredge's Steam Webscraping Linear Regression\n",
    "(See: https://www.github.com/Jack-Etheredge/Steam-Webscraping-Linear-Regression)"
   ]
  },
  {
   "cell_type": "markdown",
   "id": "190cef4b",
   "metadata": {},
   "source": [
    "\n",
    "# Libraries\n",
    "\n",
    "Note: Install any dependencies needed\n",
    "- pip install selenium"
   ]
  },
  {
   "cell_type": "code",
   "execution_count": 108,
   "id": "6eccfe96",
   "metadata": {},
   "outputs": [],
   "source": [
    "import urllib\n",
    "import urllib.request\n",
    "import requests\n",
    "from bs4 import BeautifulSoup"
   ]
  },
  {
   "cell_type": "markdown",
   "id": "4ef534b9",
   "metadata": {},
   "source": [
    "\n",
    "# Get list of games"
   ]
  },
  {
   "cell_type": "code",
   "execution_count": 8,
   "id": "f37711e9",
   "metadata": {},
   "outputs": [
    {
     "name": "stdout",
     "output_type": "stream",
     "text": [
      "['Back 4 Blood', 'Destiny 2', 'Counter-Strike: Global Offensive', 'New World', 'Apex Legends™', 'Demon Slayer -Kimetsu no Yaiba- The Hinokami Chronicles', 'FINAL FANTASY XIV Online', 'Dead by Daylight', 'Halo: The Master Chief Collection', 'Grand Theft Auto V', 'Sid Meier’s Civilization® VI', 'Team Fortress 2', 'The Elder Scrolls® Online', \"Tom Clancy's Rainbow Six® Siege\", 'Warframe', 'The Riftbreaker', 'Phasmophobia', 'Rust', 'War Thunder', 'Red Dead Redemption 2', 'Fallout 4', 'Sea of Thieves', 'Madden NFL 22', 'The Jackbox Party Pack 8', 'Dota 2']\n",
      "['The Sims™ 4', \"Baldur's Gate 3\", 'Borderlands 3', 'Bloons TD 6', 'NBA 2K22', 'Disco Elysium - The Final Cut', 'Black Desert', 'PUBG: BATTLEGROUNDS', 'Tales of Arise', 'Fallout 76', 'RimWorld', 'STAR WARS™: The Old Republic™', 'SMITE®', 'Timberborn', 'It Takes Two', 'Battlefield V', 'House Flipper', 'Pathfinder: Wrath of the Righteous', 'NARAKA: BLADEPOINT', 'Valheim', 'Microsoft Flight Simulator', 'Battlefield 4™', 'The Outer Worlds', 'Path of Exile', 'ARK: Survival Evolved']\n",
      "['American Truck Simulator', \"Assassin's Creed® Odyssey\", 'The Elder Scrolls V: Skyrim Special Edition', 'Noita', 'Stellaris', 'Hunt: Showdown', 'Stardew Valley', 'Hell Let Loose', 'DEATHLOOP', 'Planet Zoo', 'Call of Duty®: Black Ops III', 'Battlefield 1 ™', 'Cities: Skylines', 'Dying Light', 'World of Warships', 'BeamNG.drive', 'Insurgency: Sandstorm', 'Raft', 'Satisfactory', 'Nickelodeon All-Star Brawl', 'Cyberpunk 2077', 'Terraria', 'Gas Station Simulator', 'Yu-Gi-Oh! Duel Links', 'Total War: WARHAMMER II']\n",
      "['The Forest', 'Forza Horizon 4', 'Battlefield™ 2042', 'Car Mechanic Simulator 2021', 'PAYDAY 2', 'HOT WHEELS UNLEASHED™', 'Beat Saber', 'Monster Hunter: World', 'Factorio', 'Age of Darkness: Final Stand', 'Phantasy Star Online 2 New Genesis', 'Arma 3', 'DayZ', 'Minecraft Dungeons', 'Splitgate', 'Brawlhalla', 'Subnautica', 'Planet Coaster', 'Aliens: Fireteam Elite', 'Hearts of Iron IV', \"No Man's Sky\", 'Slay the Spire', 'Teardown', 'GUILTY GEAR -STRIVE-', 'Outer Wilds']\n",
      "['Batman™: Arkham Knight', 'Fallout: New Vegas', 'MELTY BLOOD: TYPE LUMINA', 'Mass Effect™ Legendary Edition', 'Forza Horizon 5', 'For The King', 'Fall Guys: Ultimate Knockout', 'Half-Life: Alyx', 'The Binding of Isaac: Rebirth', 'Divinity: Original Sin 2 - Definitive Edition', 'Borderlands 2', 'Crusader Kings III', 'HUMANKIND™', 'DCS World Steam Edition', 'Squad', 'F1® 2021', 'Deep Rock Galactic', 'Legion TD 2 - Multiplayer Tower Defense', 'Star Trek Online', 'theHunter: Call of the Wild™', 'SnowRunner', 'Life is Strange: True Colors', 'Left 4 Dead 2', \"Garry's Mod\", 'Hades']\n",
      "['Stormworks: Build and Rescue', 'Horizon Zero Dawn™ Complete Edition', 'Age of Empires II: Definitive Edition', 'The Witcher® 3: Wild Hunt', '7 Days to Die', 'Medieval Dynasty', 'Sekiro™: Shadows Die Twice - GOTY Edition', 'Europa Universalis IV', 'Tabletop Simulator', 'Risk of Rain 2', 'World War Z: Aftermath', 'DARK SOULS™ III', \"Assassin's Creed® Origins\", 'Grounded', 'Zero Hour', 'Potion Craft: Alchemist Simulator', 'A Total War Saga: TROY', 'DOOM Eternal', 'FOR HONOR™', 'Foxhole', 'Paladins®', 'World of Tanks Blitz', 'RuneScape ®', 'Subnautica: Below Zero', 'Killing Floor 2']\n",
      "['Age of Empires IV', 'Farming Simulator 19', 'BONEWORKS', 'Psychonauts 2', 'Mount & Blade II: Bannerlord', 'Surviving Mars', \"Don't Starve Together\", 'War Robots', 'PowerWash Simulator', 'MechWarrior 5: Mercenaries', 'Days Gone', 'MADNESS: Project Nexus', 'Monster Train', 'Gloomhaven', 'NARUTO TO BORUTO: SHINOBI STRIKER', 'Pavlov VR', 'Project Zomboid', 'Totally Accurate Battle Simulator', 'People Playground', 'Totally Accurate Battlegrounds', 'EA Play', 'RAILROADS Online!', 'Blade and Sorcery', \"Tom Clancy's Ghost Recon® Wildlands\", 'Assetto Corsa']\n",
      "['The Jackbox Party Pack 7', 'iRacing', 'BIGFOOT', 'Injustice™ 2', 'MONSTER HUNTER RISE', 'DARK SOULS™: REMASTERED', 'Wildermyth', 'DEVOUR', 'Space Engineers', 'Resident Evil Village', 'FOREWARNED', 'Among Us', 'SCUM', 'PICO PARK', 'Book of Travels', 'BioShock Infinite', 'Call of Duty®: Black Ops II', 'CarX Drift Racing Online', 'Tribes of Midgard', 'Phoenix Wright: Ace Attorney Trilogy', 'Middle-earth™: Shadow of War™', 'EVE Online', 'Torchlight III', 'Webbed', 'Assassin’s Creed® IV Black Flag™']\n",
      "['Super Monkey Ball Banana Mania', 'Red Dead Online', 'VRChat', 'Grim Dawn', 'Detroit: Become Human', 'Age of Empires III: Definitive Edition', 'Euro Truck Simulator 2', 'Realm of the Mad God Exalt', 'Fallout 3: Game of the Year Edition', 'Travellers Rest', 'SUCCUBUS', 'Road 96 🛣️', 'GTFO', 'Gang Beasts', 'Pummel Party', 'Conan Exiles', 'NARUTO SHIPPUDEN: Ultimate Ninja STORM 4', 'ASTRONEER', 'Wasteland 3', 'Sprocket', 'Total War: WARHAMMER', 'Warhammer: Vermintide 2', 'Gunfire Reborn', 'Nioh 2 – The Complete Edition', 'FIFA 22']\n",
      "['Vampire: The Masquerade - Bloodhunt', 'Bless Unleashed', 'Farming Simulator 22', 'Settlement Survival', 'BATTLETECH', \"Sid Meier's Civilization® V\", 'The Ascent', 'SCARLET NEXUS', 'Eastward', 'State of Decay 2: Juggernaut Edition', 'ELYON', 'Kerbal Space Program', 'Sniper Ghost Warrior Contracts 2', \"Despot's Game: Dystopian Army Builder\", 'They Are Billions', 'Undertale', 'Remnant: From the Ashes', 'Police Simulator: Patrol Officers', 'Darkest Dungeon®', 'Into the Breach', 'Golf With Your Friends', 'Elite Dangerous', 'The Jackbox Party Pack 3', 'STAR WARS Jedi: Fallen Order™', 'Metro Exodus']\n",
      "['Call of Duty®: Black Ops', 'Halo Infinite', 'Frostpunk', 'DEATH STRANDING', 'Hollow Knight', 'Total War™: ROME II - Emperor Edition', 'Far Cry® 5', 'Mortal Kombat\\xa011', 'Spelunky 2', 'Wizard101', 'Portal 2', 'NieR:Automata™', 'Mini Motorways', 'Legends of IdleOn - Idle MMO', 'The Elder Scrolls V: Skyrim VR', 'Going Medieval', 'Cookie Clicker', 'Poppy Playtime', 'STAR WARS™ Battlefront™ II', 'Ori and the Will of the Wisps', 'Stranded Deep', 'OMORI', 'Jurassic World Evolution 2', 'The Isle', 'Growing Up']\n",
      "['Last Epoch', 'Tetris® Effect: Connected', 'Devil May Cry 5', \"Conqueror's Blade\", 'Kingdom Come: Deliverance', 'Orcs Must Die! 3', 'Slime Rancher', 'Twelve Minutes', 'Total War: THREE KINGDOMS', 'HITMAN™ 2', 'Lost Ark', 'UNO', 'Mafia: Definitive Edition', 'Need for Speed™ Heat', 'Out of the Park Baseball 22', 'The Escapists 2', 'Train Simulator 2022', 'Soulworker', 'ICARUS', 'PGA TOUR 2K21', 'Dyson Sphere Program', 'Pathfinder: Kingmaker - Enhanced Plus Edition', \"Assassin's Creed® Unity\", 'Rivals of Aether', 'Legendary Tales']\n",
      "['Cuphead', 'Crossout', 'A Way Out', 'Lawn Mowing Simulator', 'NieR Replicant™ ver.1.22474487139...', 'Idle Champions of the Forgotten Realms', 'Muse Dash', 'Shop Titans', 'Cepheus Protocol', 'Northgard', 'Rocksmith® 2014 Edition - Remastered', 'PlanetSide 2', 'The Sims™ 3', 'Stick Fight: The Game', \"Marvel's Avengers\", 'Green Hell', 'Scrap Mechanic', 'Junkyard Simulator', 'Action Taimanin', 'The Lord of the Rings Online™', 'The Jackbox Party Pack 6', 'Resident Evil 7 Biohazard', 'Call of Duty®: Modern Warfare® 3', 'Batman™: Arkham Origins', 'Myst']\n",
      "['Monster Hunter Stories 2: Wings of Ruin', 'Assetto Corsa Competizione', 'ULTRAKILL', 'Prison Architect', 'Oxygen Not Included', 'DRAGON BALL FighterZ', 'Swords of Legends Online', 'Overcooked! 2', 'Control Ultimate Edition', 'The Great Ace Attorney Chronicles', 'The Jackbox Party Pack 5', \"Assassin's Creed® Syndicate\", 'Human: Fall Flat', 'Wreckfest', 'MIR4', 'I Am Fish', 'Neverwinter', 'Gladiator Guild Manager', 'Ghostrunner', 'Albion Online', 'The Elder Scrolls IV: Oblivion® Game of the Year Edition', 'The Elder Scrolls Online - Blackwood', 'Super Mecha Champions', 'TaleSpire', 'Borderlands: The Pre-Sequel']\n",
      "['Little Nightmares II', 'XCOM® 2', 'The Elder Scrolls IV: Oblivion® Game of the Year Edition Deluxe', 'Sun Haven', 'Mortal Shell', 'Operation: Tango', 'MapleStory', 'Eco', 'SPORE™', 'Inscryption', 'Persona 4 Golden', 'GrandChase', 'Dead Cells', 'Craftopia', 'Rebel Inc: Escalation', \"Death's Door\", 'Train Sim World® 2', 'Spiritfarer®', 'Yakuza: Like a Dragon', 'BRAVELY DEFAULT II', 'PC Building Simulator', 'Sable', 'TEKKEN 7', 'Borderlands Game of the Year', 'Jurassic World Evolution']\n",
      "['Friday the 13th: The Game', 'Street Fighter V', 'Tropico 6', 'Trove', 'Into the Radius VR', 'Ghost Hunters Corp', 'The Walking Dead: Saints & Sinners', 'Ultimate Chicken Horse', 'DRAGON BALL Z: KAKAROT', 'Labyrinthine', 'Titanfall® 2', 'FINAL FANTASY XV WINDOWS EDITION', 'F.I.S.T.: Forged In Shadow Torch', 'Universe Sandbox', 'Ranch Simulator', 'Kenshi', 'STORY OF SEASONS: Pioneers of Olive Town', 'Age of Wonders: Planetfall', 'Poly Bridge 2', 'FINAL FANTASY IV', 'Super Robot Wars 30', 'Hot Dogs, Horseshoes & Hand Grenades', 'War of Rights', 'The Forgotten City', 'Total War: ROME REMASTERED']\n"
     ]
    },
    {
     "name": "stdout",
     "output_type": "stream",
     "text": [
      "['Chernobylite', 'MX Bikes', 'DRAGON BALL XENOVERSE 2', 'Dark Deception', 'Rift Wizard', 'The Jackbox Party Pack 4', 'Call of Duty: World at War', 'Rogue Company', 'Black Mesa', 'Transport Fever 2', 'Football Manager 2022', 'Warhammer 40,000: Inquisitor - Martyr', 'Cooking Simulator VR', 'Company of Heroes 2', 'Dragon Age™ Inquisition', 'ENDER LILIES: Quietus of the Knights', 'The Survivalists', 'Crusader Kings II', 'Maneater', 'METAL GEAR SOLID V: THE PHANTOM PAIN', 'Barotrauma', 'Destroy All Humans!', 'Crush Crush', 'Castlevania Advance Collection', 'EARTH DEFENSE FORCE 5']\n",
      "['Tricky Towers', 'Fishing Planet', 'Dishonored 2', 'RollerCoaster Tycoon® 3: Complete Edition', 'DOOM', 'Kingdoms Reborn', 'Sid Meier’s Civilization® VI Anthology', 'Cooking Simulator', 'Lost in Random™', 'World of Tanks', 'Skater XL - The Ultimate Skateboarding Game', 'Grand Theft Auto V: Premium Edition', 'Fallout 4: Game of the Year Edition', 'Borderlands 3 Ultimate Edition', 'Battlefield Bundle', 'A Dance of Fire and Ice', 'Tormented Souls', 'Tails of Iron', 'Left 4 Dead', 'Phoenix Point: Year One Edition', 'House Party', 'Carrier Command 2', 'Torchlight II', 'Total War: SHOGUN 2', 'DRAGON QUEST® XI S: Echoes of an Elusive Age™ - Definitive Edition']\n",
      "['Call of Duty®: Modern Warfare® 2', 'Tree of Savior (English Ver.)', 'DUNGEON ENCOUNTERS', 'Vagrus - The Riven Realms', 'Fallout 4 VR', 'Townscaper', 'The Crew™ 2', 'Honey, I Joined a Cult', 'Golf It!', 'DARK SOULS™ II: Scholar of the First Sin', 'GROUND BRANCH', 'Rogue Lords', 'Door Kickers 2: Task Force North', 'South Park™: The Fractured But Whole™', 'ACE COMBAT™ 7: SKIES UNKNOWN', 'KovaaK 2.0', 'Caves of Qud', 'Lords Mobile', 'Getting Over It with Bennett Foddy', 'Grand Tactician: The Civil War (1861-1865)', 'Old School RuneScape', 'FTL: Faster Than Light', 'CODE VEIN', 'Resident Evil 2', 'BIOMUTANT']\n",
      "['Back 4 Blood', 'Destiny 2', 'Counter-Strike: Global Offensive', 'New World', 'Apex Legends™', 'Demon Slayer -Kimetsu no Yaiba- The Hinokami Chronicles', 'FINAL FANTASY XIV Online', 'Dead by Daylight', 'Halo: The Master Chief Collection', 'Grand Theft Auto V', 'Sid Meier’s Civilization® VI', 'Team Fortress 2', 'The Elder Scrolls® Online', \"Tom Clancy's Rainbow Six® Siege\", 'Warframe', 'The Riftbreaker', 'Phasmophobia', 'Rust', 'War Thunder', 'Red Dead Redemption 2', 'Fallout 4', 'Sea of Thieves', 'Madden NFL 22', 'The Jackbox Party Pack 8', 'Dota 2', 'The Sims™ 4', \"Baldur's Gate 3\", 'Borderlands 3', 'Bloons TD 6', 'NBA 2K22', 'Disco Elysium - The Final Cut', 'Black Desert', 'PUBG: BATTLEGROUNDS', 'Tales of Arise', 'Fallout 76', 'RimWorld', 'STAR WARS™: The Old Republic™', 'SMITE®', 'Timberborn', 'It Takes Two', 'Battlefield V', 'House Flipper', 'Pathfinder: Wrath of the Righteous', 'NARAKA: BLADEPOINT', 'Valheim', 'Microsoft Flight Simulator', 'Battlefield 4™', 'The Outer Worlds', 'Path of Exile', 'ARK: Survival Evolved', 'American Truck Simulator', \"Assassin's Creed® Odyssey\", 'The Elder Scrolls V: Skyrim Special Edition', 'Noita', 'Stellaris', 'Hunt: Showdown', 'Stardew Valley', 'Hell Let Loose', 'DEATHLOOP', 'Planet Zoo', 'Call of Duty®: Black Ops III', 'Battlefield 1 ™', 'Cities: Skylines', 'Dying Light', 'World of Warships', 'BeamNG.drive', 'Insurgency: Sandstorm', 'Raft', 'Satisfactory', 'Nickelodeon All-Star Brawl', 'Cyberpunk 2077', 'Terraria', 'Gas Station Simulator', 'Yu-Gi-Oh! Duel Links', 'Total War: WARHAMMER II', 'The Forest', 'Forza Horizon 4', 'Battlefield™ 2042', 'Car Mechanic Simulator 2021', 'PAYDAY 2', 'HOT WHEELS UNLEASHED™', 'Beat Saber', 'Monster Hunter: World', 'Factorio', 'Age of Darkness: Final Stand', 'Phantasy Star Online 2 New Genesis', 'Arma 3', 'DayZ', 'Minecraft Dungeons', 'Splitgate', 'Brawlhalla', 'Subnautica', 'Planet Coaster', 'Aliens: Fireteam Elite', 'Hearts of Iron IV', \"No Man's Sky\", 'Slay the Spire', 'Teardown', 'GUILTY GEAR -STRIVE-', 'Outer Wilds', 'Batman™: Arkham Knight', 'Fallout: New Vegas', 'MELTY BLOOD: TYPE LUMINA', 'Mass Effect™ Legendary Edition', 'Forza Horizon 5', 'For The King', 'Fall Guys: Ultimate Knockout', 'Half-Life: Alyx', 'The Binding of Isaac: Rebirth', 'Divinity: Original Sin 2 - Definitive Edition', 'Borderlands 2', 'Crusader Kings III', 'HUMANKIND™', 'DCS World Steam Edition', 'Squad', 'F1® 2021', 'Deep Rock Galactic', 'Legion TD 2 - Multiplayer Tower Defense', 'Star Trek Online', 'theHunter: Call of the Wild™', 'SnowRunner', 'Life is Strange: True Colors', 'Left 4 Dead 2', \"Garry's Mod\", 'Hades', 'Stormworks: Build and Rescue', 'Horizon Zero Dawn™ Complete Edition', 'Age of Empires II: Definitive Edition', 'The Witcher® 3: Wild Hunt', '7 Days to Die', 'Medieval Dynasty', 'Sekiro™: Shadows Die Twice - GOTY Edition', 'Europa Universalis IV', 'Tabletop Simulator', 'Risk of Rain 2', 'World War Z: Aftermath', 'DARK SOULS™ III', \"Assassin's Creed® Origins\", 'Grounded', 'Zero Hour', 'Potion Craft: Alchemist Simulator', 'A Total War Saga: TROY', 'DOOM Eternal', 'FOR HONOR™', 'Foxhole', 'Paladins®', 'World of Tanks Blitz', 'RuneScape ®', 'Subnautica: Below Zero', 'Killing Floor 2', 'Age of Empires IV', 'Farming Simulator 19', 'BONEWORKS', 'Psychonauts 2', 'Mount & Blade II: Bannerlord', 'Surviving Mars', \"Don't Starve Together\", 'War Robots', 'PowerWash Simulator', 'MechWarrior 5: Mercenaries', 'Days Gone', 'MADNESS: Project Nexus', 'Monster Train', 'Gloomhaven', 'NARUTO TO BORUTO: SHINOBI STRIKER', 'Pavlov VR', 'Project Zomboid', 'Totally Accurate Battle Simulator', 'People Playground', 'Totally Accurate Battlegrounds', 'EA Play', 'RAILROADS Online!', 'Blade and Sorcery', \"Tom Clancy's Ghost Recon® Wildlands\", 'Assetto Corsa', 'The Jackbox Party Pack 7', 'iRacing', 'BIGFOOT', 'Injustice™ 2', 'MONSTER HUNTER RISE', 'DARK SOULS™: REMASTERED', 'Wildermyth', 'DEVOUR', 'Space Engineers', 'Resident Evil Village', 'FOREWARNED', 'Among Us', 'SCUM', 'PICO PARK', 'Book of Travels', 'BioShock Infinite', 'Call of Duty®: Black Ops II', 'CarX Drift Racing Online', 'Tribes of Midgard', 'Phoenix Wright: Ace Attorney Trilogy', 'Middle-earth™: Shadow of War™', 'EVE Online', 'Torchlight III', 'Webbed', 'Assassin’s Creed® IV Black Flag™', 'Super Monkey Ball Banana Mania', 'Red Dead Online', 'VRChat', 'Grim Dawn', 'Detroit: Become Human', 'Age of Empires III: Definitive Edition', 'Euro Truck Simulator 2', 'Realm of the Mad God Exalt', 'Fallout 3: Game of the Year Edition', 'Travellers Rest', 'SUCCUBUS', 'Road 96 🛣️', 'GTFO', 'Gang Beasts', 'Pummel Party', 'Conan Exiles', 'NARUTO SHIPPUDEN: Ultimate Ninja STORM 4', 'ASTRONEER', 'Wasteland 3', 'Sprocket', 'Total War: WARHAMMER', 'Warhammer: Vermintide 2', 'Gunfire Reborn', 'Nioh 2 – The Complete Edition', 'FIFA 22', 'Vampire: The Masquerade - Bloodhunt', 'Bless Unleashed', 'Farming Simulator 22', 'Settlement Survival', 'BATTLETECH', \"Sid Meier's Civilization® V\", 'The Ascent', 'SCARLET NEXUS', 'Eastward', 'State of Decay 2: Juggernaut Edition', 'ELYON', 'Kerbal Space Program', 'Sniper Ghost Warrior Contracts 2', \"Despot's Game: Dystopian Army Builder\", 'They Are Billions', 'Undertale', 'Remnant: From the Ashes', 'Police Simulator: Patrol Officers', 'Darkest Dungeon®', 'Into the Breach', 'Golf With Your Friends', 'Elite Dangerous', 'The Jackbox Party Pack 3', 'STAR WARS Jedi: Fallen Order™', 'Metro Exodus', 'Call of Duty®: Black Ops', 'Halo Infinite', 'Frostpunk', 'DEATH STRANDING', 'Hollow Knight', 'Total War™: ROME II - Emperor Edition', 'Far Cry® 5', 'Mortal Kombat\\xa011', 'Spelunky 2', 'Wizard101', 'Portal 2', 'NieR:Automata™', 'Mini Motorways', 'Legends of IdleOn - Idle MMO', 'The Elder Scrolls V: Skyrim VR', 'Going Medieval', 'Cookie Clicker', 'Poppy Playtime', 'STAR WARS™ Battlefront™ II', 'Ori and the Will of the Wisps', 'Stranded Deep', 'OMORI', 'Jurassic World Evolution 2', 'The Isle', 'Growing Up', 'Last Epoch', 'Tetris® Effect: Connected', 'Devil May Cry 5', \"Conqueror's Blade\", 'Kingdom Come: Deliverance', 'Orcs Must Die! 3', 'Slime Rancher', 'Twelve Minutes', 'Total War: THREE KINGDOMS', 'HITMAN™ 2', 'Lost Ark', 'UNO', 'Mafia: Definitive Edition', 'Need for Speed™ Heat', 'Out of the Park Baseball 22', 'The Escapists 2', 'Train Simulator 2022', 'Soulworker', 'ICARUS', 'PGA TOUR 2K21', 'Dyson Sphere Program', 'Pathfinder: Kingmaker - Enhanced Plus Edition', \"Assassin's Creed® Unity\", 'Rivals of Aether', 'Legendary Tales', 'Cuphead', 'Crossout', 'A Way Out', 'Lawn Mowing Simulator', 'NieR Replicant™ ver.1.22474487139...', 'Idle Champions of the Forgotten Realms', 'Muse Dash', 'Shop Titans', 'Cepheus Protocol', 'Northgard', 'Rocksmith® 2014 Edition - Remastered', 'PlanetSide 2', 'The Sims™ 3', 'Stick Fight: The Game', \"Marvel's Avengers\", 'Green Hell', 'Scrap Mechanic', 'Junkyard Simulator', 'Action Taimanin', 'The Lord of the Rings Online™', 'The Jackbox Party Pack 6', 'Resident Evil 7 Biohazard', 'Call of Duty®: Modern Warfare® 3', 'Batman™: Arkham Origins', 'Myst', 'Monster Hunter Stories 2: Wings of Ruin', 'Assetto Corsa Competizione', 'ULTRAKILL', 'Prison Architect', 'Oxygen Not Included', 'DRAGON BALL FighterZ', 'Swords of Legends Online', 'Overcooked! 2', 'Control Ultimate Edition', 'The Great Ace Attorney Chronicles', 'The Jackbox Party Pack 5', \"Assassin's Creed® Syndicate\", 'Human: Fall Flat', 'Wreckfest', 'MIR4', 'I Am Fish', 'Neverwinter', 'Gladiator Guild Manager', 'Ghostrunner', 'Albion Online', 'The Elder Scrolls IV: Oblivion® Game of the Year Edition', 'The Elder Scrolls Online - Blackwood', 'Super Mecha Champions', 'TaleSpire', 'Borderlands: The Pre-Sequel', 'Little Nightmares II', 'XCOM® 2', 'The Elder Scrolls IV: Oblivion® Game of the Year Edition Deluxe', 'Sun Haven', 'Mortal Shell', 'Operation: Tango', 'MapleStory', 'Eco', 'SPORE™', 'Inscryption', 'Persona 4 Golden', 'GrandChase', 'Dead Cells', 'Craftopia', 'Rebel Inc: Escalation', \"Death's Door\", 'Train Sim World® 2', 'Spiritfarer®', 'Yakuza: Like a Dragon', 'BRAVELY DEFAULT II', 'PC Building Simulator', 'Sable', 'TEKKEN 7', 'Borderlands Game of the Year', 'Jurassic World Evolution', 'Friday the 13th: The Game', 'Street Fighter V', 'Tropico 6', 'Trove', 'Into the Radius VR', 'Ghost Hunters Corp', 'The Walking Dead: Saints & Sinners', 'Ultimate Chicken Horse', 'DRAGON BALL Z: KAKAROT', 'Labyrinthine', 'Titanfall® 2', 'FINAL FANTASY XV WINDOWS EDITION', 'F.I.S.T.: Forged In Shadow Torch', 'Universe Sandbox', 'Ranch Simulator', 'Kenshi', 'STORY OF SEASONS: Pioneers of Olive Town', 'Age of Wonders: Planetfall', 'Poly Bridge 2', 'FINAL FANTASY IV', 'Super Robot Wars 30', 'Hot Dogs, Horseshoes & Hand Grenades', 'War of Rights', 'The Forgotten City', 'Total War: ROME REMASTERED', 'Chernobylite', 'MX Bikes', 'DRAGON BALL XENOVERSE 2', 'Dark Deception', 'Rift Wizard', 'The Jackbox Party Pack 4', 'Call of Duty: World at War', 'Rogue Company', 'Black Mesa', 'Transport Fever 2', 'Football Manager 2022', 'Warhammer 40,000: Inquisitor - Martyr', 'Cooking Simulator VR', 'Company of Heroes 2', 'Dragon Age™ Inquisition', 'ENDER LILIES: Quietus of the Knights', 'The Survivalists', 'Crusader Kings II', 'Maneater', 'METAL GEAR SOLID V: THE PHANTOM PAIN', 'Barotrauma', 'Destroy All Humans!', 'Crush Crush', 'Castlevania Advance Collection', 'EARTH DEFENSE FORCE 5', 'Tricky Towers', 'Fishing Planet', 'Dishonored 2', 'RollerCoaster Tycoon® 3: Complete Edition', 'DOOM', 'Kingdoms Reborn', 'Sid Meier’s Civilization® VI Anthology', 'Cooking Simulator', 'Lost in Random™', 'World of Tanks', 'Skater XL - The Ultimate Skateboarding Game', 'Grand Theft Auto V: Premium Edition', 'Fallout 4: Game of the Year Edition', 'Borderlands 3 Ultimate Edition', 'Battlefield Bundle', 'A Dance of Fire and Ice', 'Tormented Souls', 'Tails of Iron', 'Left 4 Dead', 'Phoenix Point: Year One Edition', 'House Party', 'Carrier Command 2', 'Torchlight II', 'Total War: SHOGUN 2', 'DRAGON QUEST® XI S: Echoes of an Elusive Age™ - Definitive Edition', 'Call of Duty®: Modern Warfare® 2', 'Tree of Savior (English Ver.)', 'DUNGEON ENCOUNTERS', 'Vagrus - The Riven Realms', 'Fallout 4 VR', 'Townscaper', 'The Crew™ 2', 'Honey, I Joined a Cult', 'Golf It!', 'DARK SOULS™ II: Scholar of the First Sin', 'GROUND BRANCH', 'Rogue Lords', 'Door Kickers 2: Task Force North', 'South Park™: The Fractured But Whole™', 'ACE COMBAT™ 7: SKIES UNKNOWN', 'KovaaK 2.0', 'Caves of Qud', 'Lords Mobile', 'Getting Over It with Bennett Foddy', 'Grand Tactician: The Civil War (1861-1865)', 'Old School RuneScape', 'FTL: Faster Than Light', 'CODE VEIN', 'Resident Evil 2', 'BIOMUTANT']\n"
     ]
    }
   ],
   "source": [
    "list_games = []\n",
    "\n",
    "for page in range(1, 20):\n",
    "    bs = BeautifulSoup(urllib.request.urlopen('http://store.steampowered.com/search/?category1=998%2C996&page='+str(page)).read(), \"html.parser\")\n",
    "\n",
    "    games = bs.find_all(\"span\", {\"class\": \"title\"})\n",
    "    \n",
    "    games = [game.contents for game in games]\n",
    "    games = [game[0] for game in games]\n",
    "    \n",
    "    list_games.extend(games)\n",
    "    print(games)\n",
    "print(list_games)"
   ]
  },
  {
   "cell_type": "markdown",
   "id": "44d39824",
   "metadata": {},
   "source": [
    "\n",
    "# Get App IDs for those games"
   ]
  },
  {
   "cell_type": "code",
   "execution_count": 32,
   "id": "39dea96f",
   "metadata": {
    "scrolled": true
   },
   "outputs": [
    {
     "name": "stdout",
     "output_type": "stream",
     "text": [
      "['924970', '1085660', '730', '1063730', '1172470', '1490890', '39210', '381210', '976730', '271590', '289070', '440', '306130', '359550', '230410', '780310', '739630', '252490', '236390', '1174180', '377160', '1172620', '1519350', '570', '1552350']\n",
      "['1222670', '1086940', '397540', '960090', '632470', '1644960', '578080', '740130', '582660', '1151340', '1286830', '294100', '1238810', '1426210', '386360', '1062090', '613100', '892970', '1184370', '1238860', '1250410', '1203220', '578650', '346110', '238960']\n",
      "['812140', '413150', '881100', '281990', '270880', '594650', '489830', '686810', '1238840', '1252330', '311210', '703080', '239140', '255710', '284160', '552990', '1414850', '581320', '648800', '526870', '105600', '1091500', '1149620', '1517290', '594570']\n",
      "['1293830', '601510', '218620', '620980', '242760', '1271700', '1190000', '1426450', '427520', '107410', '264710', '582010', '291550', '275850', '1056640', '1672970', '1549970', '394360', '221100', '1384160', '1167630', '677620', '646570', '208650', '493340']\n",
      "['753640', '22380', '1372280', '1551360', '1328670', '527230', '1097150', '546560', '250900', '49520', '1124300', '1158310', '435150', '1465360', '469600', '1134570', '223750', '393380', '548430', '4000', '936790', '518790', '573090', '550', '9900']\n",
      "['1145360', '1151640', '813780', '292030', '251570', '1129580', '962130', '505460', '814380', '699130', '374320', '304390', '1359090', '582160', '632360', '782330', '848450', '1210320', '1099410', '286160', '444090', '823500', '1343400', '232090', '236850']\n",
      "['1466860', '322330', '787860', '444200', '464920', '1057090', '1259420', '261550', '1290000', '607080', '784080', '767560', '1102190', '488860', '1118200', '780290', '633230', '108600', '555160', '508440', '244210', '1289670', '629730', '1696810', '823130']\n",
      "['627270', '509980', '460930', '266410', '202970', '570940', '1211630', '763890', '1274570', '244850', '1446780', '440900', '945360', '1509960', '513710', '1562420', '8500', '8870', '787480', '933110', '858820', '635260', '1152340', '1196590', '219990']\n",
      "['1030210', '242050', '356190', '1390350', '1316910', '1404210', '227300', '493520', '438100', '1222140', '349040', '285900', '880940', '22370', '1254120', '1227280', '361420', '1139980', '985830', '719040', '200210', '1466640', '1674170', '1248130', '760160']\n",
      "['1506830', '1217060', '364360', '1509510', '1325200', '637090', '42700', '552500', '979690', '495420', '391540', '412020', '1240440', '644930', '1674470', '1172380', '1338770', '220200', '262060', '977880', '8930', '1190460', '617290', '214950', '997010']\n",
      "['367520', '323190', '431240', '976310', '590380', '359320', '799960', '1237950', '434170', '418530', '620', '775500', '524220', '552520', '1721470', '1127500', '1454400', '313120', '1150690', '1003590', '611670', '1029780', '376210', '1476970', '899770']\n",
      "['1244460', '433340', '1191120', '779340', '1097200', '379430', '601150', '905370', '863550', '1113560', '1222680', '1377580', '1149460', '386180', '1522820', '641990', '1030840', '1465070', '1366540', '1016120', '289650', '24010', '640820', '470220', '1222700']\n",
      "['1455660', '1480560', '383980', '466560', '1599340', '997070', '418370', '979640', '774171', '268910', '1335790', '674940', '627690', '1400970', '22330', '387990', '47890', '1255560', '221680', '1229490', '1258080', '671970', '815370', '42680', '209000']\n",
      "['212500', '233450', '228380', '457140', '1335200', '368500', '1418100', '1005300', '728880', '1623660', '477160', '805550', '1158850', '678950', '1472560', '870780', '588650', '1139900', '774461', '1277400', '109600', '1092790', '1432860', '17390', '860510']\n",
      "['268500', '22330', '1043260', '261640', '1110910', '720620', '1235140', '1282590', '216150', '1368910', '757310', '1307550', '761890', '382310', '1088790', '916840', '894020', '1113000', '304050', '985810', '8980', '972660', '492720', '1012790', '621060']\n",
      "['1302240', '438740', '1446650', '1618540', '1062160', '1237970', '389730', '648350', '310950', '851850', '1119730', '386940', '655500', '332950', '1016800', '874260', '1330470', '230290', '637650', '629820', '218230', '454650', '450540', '1271280', '718850']\n",
      "['898750', '885970', '1066780', '872200', '459820', '1392960', '1358140', '897450', '10090', '231430', '1173800', '233860', '602960', '610180', '380600', '424030', '1369630', '646910', '362890', '379720', '1569040', '1307890', '1552550', '1368820', '287700']\n",
      "['500', '803330', '403640', '1462570', '1489630', '1407200', '641320', '437920', '1222690', '1007040', '909660', '962730', '1283410', '527430', '977950', '203770', '377160,435870,435880,435881,480630,480631,490650', '1367590', '200710', '502500']\n",
      "['34330', '10180', '488790', '1069690', '611660', '571740', '611790', '1295510', '240720', '839770', '1291340', '824270', '1343370', '841190', '453480', '333640', '629760', '1049410', '1451080', '1041320', '335300', '837470', '1382330', '597820', '690830']\n",
      "['924970', '1085660', '730', '1063730', '1172470', '1490890', '39210', '381210', '976730', '271590', '289070', '440', '306130', '359550', '230410', '780310', '739630', '252490', '236390', '1174180', '377160', '1172620', '1519350', '570', '1552350', '1222670', '1086940', '397540', '960090', '632470', '1644960', '578080', '740130', '582660', '1151340', '1286830', '294100', '1238810', '1426210', '386360', '1062090', '613100', '892970', '1184370', '1238860', '1250410', '1203220', '578650', '346110', '238960', '812140', '413150', '881100', '281990', '270880', '594650', '489830', '686810', '1238840', '1252330', '311210', '703080', '239140', '255710', '284160', '552990', '1414850', '581320', '648800', '526870', '105600', '1091500', '1149620', '1517290', '594570', '1293830', '601510', '218620', '620980', '242760', '1271700', '1190000', '1426450', '427520', '107410', '264710', '582010', '291550', '275850', '1056640', '1672970', '1549970', '394360', '221100', '1384160', '1167630', '677620', '646570', '208650', '493340', '753640', '22380', '1372280', '1551360', '1328670', '527230', '1097150', '546560', '250900', '49520', '1124300', '1158310', '435150', '1465360', '469600', '1134570', '223750', '393380', '548430', '4000', '936790', '518790', '573090', '550', '9900', '1145360', '1151640', '813780', '292030', '251570', '1129580', '962130', '505460', '814380', '699130', '374320', '304390', '1359090', '582160', '632360', '782330', '848450', '1210320', '1099410', '286160', '444090', '823500', '1343400', '232090', '236850', '1466860', '322330', '787860', '444200', '464920', '1057090', '1259420', '261550', '1290000', '607080', '784080', '767560', '1102190', '488860', '1118200', '780290', '633230', '108600', '555160', '508440', '244210', '1289670', '629730', '1696810', '823130', '627270', '509980', '460930', '266410', '202970', '570940', '1211630', '763890', '1274570', '244850', '1446780', '440900', '945360', '1509960', '513710', '1562420', '8500', '8870', '787480', '933110', '858820', '635260', '1152340', '1196590', '219990', '1030210', '242050', '356190', '1390350', '1316910', '1404210', '227300', '493520', '438100', '1222140', '349040', '285900', '880940', '22370', '1254120', '1227280', '361420', '1139980', '985830', '719040', '200210', '1466640', '1674170', '1248130', '760160', '1506830', '1217060', '364360', '1509510', '1325200', '637090', '42700', '552500', '979690', '495420', '391540', '412020', '1240440', '644930', '1674470', '1172380', '1338770', '220200', '262060', '977880', '8930', '1190460', '617290', '214950', '997010', '367520', '323190', '431240', '976310', '590380', '359320', '799960', '1237950', '434170', '418530', '620', '775500', '524220', '552520', '1721470', '1127500', '1454400', '313120', '1150690', '1003590', '611670', '1029780', '376210', '1476970', '899770', '1244460', '433340', '1191120', '779340', '1097200', '379430', '601150', '905370', '863550', '1113560', '1222680', '1377580', '1149460', '386180', '1522820', '641990', '1030840', '1465070', '1366540', '1016120', '289650', '24010', '640820', '470220', '1222700', '1455660', '1480560', '383980', '466560', '1599340', '997070', '418370', '979640', '774171', '268910', '1335790', '674940', '627690', '1400970', '22330', '387990', '47890', '1255560', '221680', '1229490', '1258080', '671970', '815370', '42680', '209000', '212500', '233450', '228380', '457140', '1335200', '368500', '1418100', '1005300', '728880', '1623660', '477160', '805550', '1158850', '678950', '1472560', '870780', '588650', '1139900', '774461', '1277400', '109600', '1092790', '1432860', '17390', '860510', '268500', '22330', '1043260', '261640', '1110910', '720620', '1235140', '1282590', '216150', '1368910', '757310', '1307550', '761890', '382310', '1088790', '916840', '894020', '1113000', '304050', '985810', '8980', '972660', '492720', '1012790', '621060', '1302240', '438740', '1446650', '1618540', '1062160', '1237970', '389730', '648350', '310950', '851850', '1119730', '386940', '655500', '332950', '1016800', '874260', '1330470', '230290', '637650', '629820', '218230', '454650', '450540', '1271280', '718850', '898750', '885970', '1066780', '872200', '459820', '1392960', '1358140', '897450', '10090', '231430', '1173800', '233860', '602960', '610180', '380600', '424030', '1369630', '646910', '362890', '379720', '1569040', '1307890', '1552550', '1368820', '287700', '500', '803330', '403640', '1462570', '1489630', '1407200', '641320', '437920', '1222690', '1007040', '909660', '962730', '1283410', '527430', '977950', '203770', '377160,435870,435880,435881,480630,480631,490650', '1367590', '200710', '502500', '34330', '10180', '488790', '1069690', '611660', '571740', '611790', '1295510', '240720', '839770', '1291340', '824270', '1343370', '841190', '453480', '333640', '629760', '1049410', '1451080', '1041320', '335300', '837470', '1382330', '597820', '690830']\n"
     ]
    }
   ],
   "source": [
    "list_ids = []\n",
    "\n",
    "for page in range(1, 20):\n",
    "    bs = BeautifulSoup(urllib.request.urlopen('http://store.steampowered.com/search/?category1=998%2C996&page='+str(page)).read(), \"html.parser\")\n",
    "\n",
    "    ids = [r['data-ds-appid'] for r in bs.find_all(name=\"a\", attrs={\"data-ds-appid\":True})]\n",
    "    \n",
    "    list_ids.extend(ids)\n",
    "    print(ids)\n",
    "print(list_ids)"
   ]
  },
  {
   "cell_type": "markdown",
   "id": "e2b6c762",
   "metadata": {},
   "source": [
    "\n",
    "# Let's transform these two lists into a dictionary"
   ]
  },
  {
   "cell_type": "code",
   "execution_count": 41,
   "id": "11cbfefe",
   "metadata": {},
   "outputs": [
    {
     "name": "stdout",
     "output_type": "stream",
     "text": [
      "{'924970': 'Back 4 Blood', '1085660': 'Destiny 2', '730': 'Counter-Strike: Global Offensive', '1063730': 'New World', '1172470': 'Apex Legends™', '1490890': 'Demon Slayer -Kimetsu no Yaiba- The Hinokami Chronicles', '39210': 'FINAL FANTASY XIV Online', '381210': 'Dead by Daylight', '976730': 'Halo: The Master Chief Collection', '271590': 'Grand Theft Auto V', '289070': 'Sid Meier’s Civilization® VI', '440': 'Team Fortress 2', '306130': 'The Elder Scrolls® Online', '359550': \"Tom Clancy's Rainbow Six® Siege\", '230410': 'Warframe', '780310': 'The Riftbreaker', '739630': 'Phasmophobia', '252490': 'Rust', '236390': 'War Thunder', '1174180': 'Red Dead Redemption 2', '377160': 'Fallout 4', '1172620': 'Sea of Thieves', '1519350': 'Madden NFL 22', '570': 'The Jackbox Party Pack 8', '1552350': 'Dota 2', '1222670': 'The Sims™ 4', '1086940': \"Baldur's Gate 3\", '397540': 'Borderlands 3', '960090': 'Bloons TD 6', '632470': 'NBA 2K22', '1644960': 'Disco Elysium - The Final Cut', '578080': 'Black Desert', '740130': 'PUBG: BATTLEGROUNDS', '582660': 'Tales of Arise', '1151340': 'Fallout 76', '1286830': 'RimWorld', '294100': 'STAR WARS™: The Old Republic™', '1238810': 'SMITE®', '1426210': 'Timberborn', '386360': 'It Takes Two', '1062090': 'Battlefield V', '613100': 'House Flipper', '892970': 'Pathfinder: Wrath of the Righteous', '1184370': 'NARAKA: BLADEPOINT', '1238860': 'Valheim', '1250410': 'Microsoft Flight Simulator', '1203220': 'Battlefield 4™', '578650': 'The Outer Worlds', '346110': 'Path of Exile', '238960': 'ARK: Survival Evolved', '812140': 'American Truck Simulator', '413150': \"Assassin's Creed® Odyssey\", '881100': 'The Elder Scrolls V: Skyrim Special Edition', '281990': 'Noita', '270880': 'Stellaris', '594650': 'Hunt: Showdown', '489830': 'Stardew Valley', '686810': 'Hell Let Loose', '1238840': 'DEATHLOOP', '1252330': 'Planet Zoo', '311210': 'Call of Duty®: Black Ops III', '703080': 'Battlefield 1 ™', '239140': 'Cities: Skylines', '255710': 'Dying Light', '284160': 'World of Warships', '552990': 'BeamNG.drive', '1414850': 'Insurgency: Sandstorm', '581320': 'Raft', '648800': 'Satisfactory', '526870': 'Nickelodeon All-Star Brawl', '105600': 'Cyberpunk 2077', '1091500': 'Terraria', '1149620': 'Gas Station Simulator', '1517290': 'Yu-Gi-Oh! Duel Links', '594570': 'Total War: WARHAMMER II', '1293830': 'The Forest', '601510': 'Forza Horizon 4', '218620': 'Battlefield™ 2042', '620980': 'Car Mechanic Simulator 2021', '242760': 'PAYDAY 2', '1271700': 'HOT WHEELS UNLEASHED™', '1190000': 'Beat Saber', '1426450': 'Monster Hunter: World', '427520': 'Factorio', '107410': 'Age of Darkness: Final Stand', '264710': 'Phantasy Star Online 2 New Genesis', '582010': 'Arma 3', '291550': 'DayZ', '275850': 'Minecraft Dungeons', '1056640': 'Splitgate', '1672970': 'Brawlhalla', '1549970': 'Subnautica', '394360': 'Planet Coaster', '221100': 'Aliens: Fireteam Elite', '1384160': 'Hearts of Iron IV', '1167630': \"No Man's Sky\", '677620': 'Slay the Spire', '646570': 'Teardown', '208650': 'GUILTY GEAR -STRIVE-', '493340': 'Outer Wilds', '753640': 'Batman™: Arkham Knight', '22380': 'Fallout: New Vegas', '1372280': 'MELTY BLOOD: TYPE LUMINA', '1551360': 'Mass Effect™ Legendary Edition', '1328670': 'Forza Horizon 5', '527230': 'For The King', '1097150': 'Fall Guys: Ultimate Knockout', '546560': 'Half-Life: Alyx', '250900': 'The Binding of Isaac: Rebirth', '49520': 'Divinity: Original Sin 2 - Definitive Edition', '1124300': 'Borderlands 2', '1158310': 'Crusader Kings III', '435150': 'HUMANKIND™', '1465360': 'DCS World Steam Edition', '469600': 'Squad', '1134570': 'F1® 2021', '223750': 'Deep Rock Galactic', '393380': 'Legion TD 2 - Multiplayer Tower Defense', '548430': 'Star Trek Online', '4000': 'theHunter: Call of the Wild™', '936790': 'SnowRunner', '518790': 'Life is Strange: True Colors', '573090': 'Left 4 Dead 2', '550': \"Garry's Mod\", '9900': 'Hades', '1145360': 'Stormworks: Build and Rescue', '1151640': 'Horizon Zero Dawn™ Complete Edition', '813780': 'Age of Empires II: Definitive Edition', '292030': 'The Witcher® 3: Wild Hunt', '251570': '7 Days to Die', '1129580': 'Medieval Dynasty', '962130': 'Sekiro™: Shadows Die Twice - GOTY Edition', '505460': 'Europa Universalis IV', '814380': 'Tabletop Simulator', '699130': 'Risk of Rain 2', '374320': 'World War Z: Aftermath', '304390': 'DARK SOULS™ III', '1359090': \"Assassin's Creed® Origins\", '582160': 'Grounded', '632360': 'Zero Hour', '782330': 'Potion Craft: Alchemist Simulator', '848450': 'A Total War Saga: TROY', '1210320': 'DOOM Eternal', '1099410': 'FOR HONOR™', '286160': 'Foxhole', '444090': 'Paladins®', '823500': 'World of Tanks Blitz', '1343400': 'RuneScape ®', '232090': 'Subnautica: Below Zero', '236850': 'Killing Floor 2', '1466860': 'Age of Empires IV', '322330': 'Farming Simulator 19', '787860': 'BONEWORKS', '444200': 'Psychonauts 2', '464920': 'Mount & Blade II: Bannerlord', '1057090': 'Surviving Mars', '1259420': \"Don't Starve Together\", '261550': 'War Robots', '1290000': 'PowerWash Simulator', '607080': 'MechWarrior 5: Mercenaries', '784080': 'Days Gone', '767560': 'MADNESS: Project Nexus', '1102190': 'Monster Train', '488860': 'Gloomhaven', '1118200': 'NARUTO TO BORUTO: SHINOBI STRIKER', '780290': 'Pavlov VR', '633230': 'Project Zomboid', '108600': 'Totally Accurate Battle Simulator', '555160': 'People Playground', '508440': 'Totally Accurate Battlegrounds', '244210': 'EA Play', '1289670': 'RAILROADS Online!', '629730': 'Blade and Sorcery', '1696810': \"Tom Clancy's Ghost Recon® Wildlands\", '823130': 'Assetto Corsa', '627270': 'The Jackbox Party Pack 7', '509980': 'iRacing', '460930': 'BIGFOOT', '266410': 'Injustice™ 2', '202970': 'MONSTER HUNTER RISE', '570940': 'DARK SOULS™: REMASTERED', '1211630': 'Wildermyth', '763890': 'DEVOUR', '1274570': 'Space Engineers', '244850': 'Resident Evil Village', '1446780': 'FOREWARNED', '440900': 'Among Us', '945360': 'SCUM', '1509960': 'PICO PARK', '513710': 'Book of Travels', '1562420': 'BioShock Infinite', '8500': 'Call of Duty®: Black Ops II', '8870': 'CarX Drift Racing Online', '787480': 'Tribes of Midgard', '933110': 'Phoenix Wright: Ace Attorney Trilogy', '858820': 'Middle-earth™: Shadow of War™', '635260': 'EVE Online', '1152340': 'Torchlight III', '1196590': 'Webbed', '219990': 'Assassin’s Creed® IV Black Flag™', '1030210': 'Super Monkey Ball Banana Mania', '242050': 'Red Dead Online', '356190': 'VRChat', '1390350': 'Grim Dawn', '1316910': 'Detroit: Become Human', '1404210': 'Age of Empires III: Definitive Edition', '227300': 'Euro Truck Simulator 2', '493520': 'Realm of the Mad God Exalt', '438100': 'Fallout 3: Game of the Year Edition', '1222140': 'Travellers Rest', '349040': 'SUCCUBUS', '285900': 'Road 96 🛣️', '880940': 'GTFO', '22370': 'Gang Beasts', '1254120': 'Pummel Party', '1227280': 'Conan Exiles', '361420': 'NARUTO SHIPPUDEN: Ultimate Ninja STORM 4', '1139980': 'ASTRONEER', '985830': 'Wasteland 3', '719040': 'Sprocket', '200210': 'Total War: WARHAMMER', '1466640': 'Warhammer: Vermintide 2', '1674170': 'Gunfire Reborn', '1248130': 'Nioh 2 – The Complete Edition', '760160': 'FIFA 22', '1506830': 'Vampire: The Masquerade - Bloodhunt', '1217060': 'Bless Unleashed', '364360': 'Farming Simulator 22', '1509510': 'Settlement Survival', '1325200': 'BATTLETECH', '637090': \"Sid Meier's Civilization® V\", '42700': 'The Ascent', '552500': 'SCARLET NEXUS', '979690': 'Eastward', '495420': 'State of Decay 2: Juggernaut Edition', '391540': 'ELYON', '412020': 'Kerbal Space Program', '1240440': 'Sniper Ghost Warrior Contracts 2', '644930': \"Despot's Game: Dystopian Army Builder\", '1674470': 'They Are Billions', '1172380': 'Undertale', '1338770': 'Remnant: From the Ashes', '220200': 'Police Simulator: Patrol Officers', '262060': 'Darkest Dungeon®', '977880': 'Into the Breach', '8930': 'Golf With Your Friends', '1190460': 'Elite Dangerous', '617290': 'The Jackbox Party Pack 3', '214950': 'STAR WARS Jedi: Fallen Order™', '997010': 'Metro Exodus', '367520': 'Call of Duty®: Black Ops', '323190': 'Halo Infinite', '431240': 'Frostpunk', '976310': 'DEATH STRANDING', '590380': 'Hollow Knight', '359320': 'Total War™: ROME II - Emperor Edition', '799960': 'Far Cry® 5', '1237950': 'Mortal Kombat\\xa011', '434170': 'Spelunky 2', '418530': 'Wizard101', '620': 'Portal 2', '775500': 'NieR:Automata™', '524220': 'Mini Motorways', '552520': 'Legends of IdleOn - Idle MMO', '1721470': 'The Elder Scrolls V: Skyrim VR', '1127500': 'Going Medieval', '1454400': 'Cookie Clicker', '313120': 'Poppy Playtime', '1150690': 'STAR WARS™ Battlefront™ II', '1003590': 'Ori and the Will of the Wisps', '611670': 'Stranded Deep', '1029780': 'OMORI', '376210': 'Jurassic World Evolution 2', '1476970': 'The Isle', '899770': 'Growing Up', '1244460': 'Last Epoch', '433340': 'Tetris® Effect: Connected', '1191120': 'Devil May Cry 5', '779340': \"Conqueror's Blade\", '1097200': 'Kingdom Come: Deliverance', '379430': 'Orcs Must Die! 3', '601150': 'Slime Rancher', '905370': 'Twelve Minutes', '863550': 'Total War: THREE KINGDOMS', '1113560': 'HITMAN™ 2', '1222680': 'Lost Ark', '1377580': 'UNO', '1149460': 'Mafia: Definitive Edition', '386180': 'Need for Speed™ Heat', '1522820': 'Out of the Park Baseball 22', '641990': 'The Escapists 2', '1030840': 'Train Simulator 2022', '1465070': 'Soulworker', '1366540': 'ICARUS', '1016120': 'PGA TOUR 2K21', '289650': 'Dyson Sphere Program', '24010': 'Pathfinder: Kingmaker - Enhanced Plus Edition', '640820': \"Assassin's Creed® Unity\", '470220': 'Rivals of Aether', '1222700': 'Legendary Tales', '1455660': 'Cuphead', '1480560': 'Crossout', '383980': 'A Way Out', '466560': 'Lawn Mowing Simulator', '1599340': 'NieR Replicant™ ver.1.22474487139...', '997070': 'Idle Champions of the Forgotten Realms', '418370': 'Muse Dash', '979640': 'Shop Titans', '774171': 'Cepheus Protocol', '268910': 'Northgard', '1335790': 'Rocksmith® 2014 Edition - Remastered', '674940': 'PlanetSide 2', '627690': 'The Sims™ 3', '1400970': 'Stick Fight: The Game', '22330': 'XCOM® 2', '387990': 'Green Hell', '47890': 'Scrap Mechanic', '1255560': 'Junkyard Simulator', '221680': 'Action Taimanin', '1229490': 'The Lord of the Rings Online™', '1258080': 'The Jackbox Party Pack 6', '671970': 'Resident Evil 7 Biohazard', '815370': 'Call of Duty®: Modern Warfare® 3', '42680': 'Batman™: Arkham Origins', '209000': 'Myst', '212500': 'Monster Hunter Stories 2: Wings of Ruin', '233450': 'Assetto Corsa Competizione', '228380': 'ULTRAKILL', '457140': 'Prison Architect', '1335200': 'Oxygen Not Included', '368500': 'DRAGON BALL FighterZ', '1418100': 'Swords of Legends Online', '1005300': 'Overcooked! 2', '728880': 'Control Ultimate Edition', '1623660': 'The Great Ace Attorney Chronicles', '477160': 'The Jackbox Party Pack 5', '805550': \"Assassin's Creed® Syndicate\", '1158850': 'Human: Fall Flat', '678950': 'Wreckfest', '1472560': 'MIR4', '870780': 'I Am Fish', '588650': 'Neverwinter', '1139900': 'Gladiator Guild Manager', '774461': 'Ghostrunner', '1277400': 'Albion Online', '109600': 'The Elder Scrolls IV: Oblivion® Game of the Year Edition', '1092790': 'The Elder Scrolls Online - Blackwood', '1432860': 'Super Mecha Champions', '17390': 'TaleSpire', '860510': 'Borderlands: The Pre-Sequel', '268500': 'Little Nightmares II', '1043260': 'The Elder Scrolls IV: Oblivion® Game of the Year Edition Deluxe', '261640': 'Sun Haven', '1110910': 'Mortal Shell', '720620': 'Operation: Tango', '1235140': 'MapleStory', '1282590': 'Eco', '216150': 'SPORE™', '1368910': 'Inscryption', '757310': 'Persona 4 Golden', '1307550': 'GrandChase', '761890': 'Dead Cells', '382310': 'Craftopia', '1088790': 'Rebel Inc: Escalation', '916840': \"Death's Door\", '894020': 'Train Sim World® 2', '1113000': 'Spiritfarer®', '304050': 'Yakuza: Like a Dragon', '985810': 'BRAVELY DEFAULT II', '8980': 'PC Building Simulator', '972660': 'Sable', '492720': 'TEKKEN 7', '1012790': 'Borderlands Game of the Year', '621060': 'Jurassic World Evolution', '1302240': 'Friday the 13th: The Game', '438740': 'Street Fighter V', '1446650': 'Tropico 6', '1618540': 'Trove', '1062160': 'Into the Radius VR', '1237970': 'Ghost Hunters Corp', '389730': 'The Walking Dead: Saints & Sinners', '648350': 'Ultimate Chicken Horse', '310950': 'DRAGON BALL Z: KAKAROT', '851850': 'Labyrinthine', '1119730': 'Titanfall® 2', '386940': 'FINAL FANTASY XV WINDOWS EDITION', '655500': 'F.I.S.T.: Forged In Shadow Torch', '332950': 'Universe Sandbox', '1016800': 'Ranch Simulator', '874260': 'Kenshi', '1330470': 'STORY OF SEASONS: Pioneers of Olive Town', '230290': 'Age of Wonders: Planetfall', '637650': 'Poly Bridge 2', '629820': 'FINAL FANTASY IV', '218230': 'Super Robot Wars 30', '454650': 'Hot Dogs, Horseshoes & Hand Grenades', '450540': 'War of Rights', '1271280': 'The Forgotten City', '718850': 'Total War: ROME REMASTERED', '898750': 'Chernobylite', '885970': 'MX Bikes', '1066780': 'DRAGON BALL XENOVERSE 2', '872200': 'Dark Deception', '459820': 'Rift Wizard', '1392960': 'The Jackbox Party Pack 4', '1358140': 'Call of Duty: World at War', '897450': 'Rogue Company', '10090': 'Black Mesa', '231430': 'Transport Fever 2', '1173800': 'Football Manager 2022', '233860': 'Warhammer 40,000: Inquisitor - Martyr', '602960': 'Cooking Simulator VR', '610180': 'Company of Heroes 2', '380600': 'Dragon Age™ Inquisition', '424030': 'ENDER LILIES: Quietus of the Knights', '1369630': 'The Survivalists', '646910': 'Crusader Kings II', '362890': 'Maneater', '379720': 'METAL GEAR SOLID V: THE PHANTOM PAIN', '1569040': 'Barotrauma', '1307890': 'Destroy All Humans!', '1552550': 'Crush Crush', '1368820': 'Castlevania Advance Collection', '287700': 'EARTH DEFENSE FORCE 5', '500': 'Tricky Towers', '803330': 'Fishing Planet', '403640': 'Dishonored 2', '1462570': 'RollerCoaster Tycoon® 3: Complete Edition', '1489630': 'DOOM', '1407200': 'Kingdoms Reborn', '641320': 'Sid Meier’s Civilization® VI Anthology', '437920': 'Cooking Simulator', '1222690': 'Lost in Random™', '1007040': 'World of Tanks', '909660': 'Skater XL - The Ultimate Skateboarding Game', '962730': 'Grand Theft Auto V: Premium Edition', '1283410': 'Fallout 4: Game of the Year Edition', '527430': 'Borderlands 3 Ultimate Edition', '977950': 'Battlefield Bundle', '203770': 'A Dance of Fire and Ice', '377160,435870,435880,435881,480630,480631,490650': 'Tormented Souls', '1367590': 'Tails of Iron', '200710': 'Left 4 Dead', '502500': 'Phoenix Point: Year One Edition', '34330': 'House Party', '10180': 'Carrier Command 2', '488790': 'Torchlight II', '1069690': 'Total War: SHOGUN 2', '611660': 'DRAGON QUEST® XI S: Echoes of an Elusive Age™ - Definitive Edition', '571740': 'Call of Duty®: Modern Warfare® 2', '611790': 'Tree of Savior (English Ver.)', '1295510': 'DUNGEON ENCOUNTERS', '240720': 'Vagrus - The Riven Realms', '839770': 'Fallout 4 VR', '1291340': 'Townscaper', '824270': 'The Crew™ 2', '1343370': 'Honey, I Joined a Cult', '841190': 'Golf It!', '453480': 'DARK SOULS™ II: Scholar of the First Sin', '333640': 'GROUND BRANCH', '629760': 'Rogue Lords', '1049410': 'Door Kickers 2: Task Force North', '1451080': 'South Park™: The Fractured But Whole™', '1041320': 'ACE COMBAT™ 7: SKIES UNKNOWN', '335300': 'KovaaK 2.0', '837470': 'Caves of Qud', '1382330': 'Lords Mobile', '597820': 'Getting Over It with Bennett Foddy', '690830': 'Grand Tactician: The Civil War (1861-1865)'}\n"
     ]
    }
   ],
   "source": [
    "dict_games = dict(zip(list_ids, list_games))\n",
    "print(dict_games)"
   ]
  },
  {
   "cell_type": "markdown",
   "id": "c6062f44",
   "metadata": {},
   "source": [
    "\n",
    "# Scrape data in SteamDB based on App IDs\n",
    "\n",
    "For each ID, scrape data from https://steamdb.info/app/[APP_ID]/graphs/"
   ]
  },
  {
   "cell_type": "raw",
   "id": "098c78ae",
   "metadata": {},
   "source": [
    "Before scraping every entry, let's test out getting historical data for one game first\n",
    "\n",
    "Let's test out \"Counter-Strike: Global Offensive\""
   ]
  },
  {
   "cell_type": "code",
   "execution_count": 54,
   "id": "221d4f16",
   "metadata": {},
   "outputs": [
    {
     "name": "stdout",
     "output_type": "stream",
     "text": [
      "AppID: 730\n"
     ]
    }
   ],
   "source": [
    "# Here, we can search the AppID of any given game name\n",
    "\n",
    "def searchID(game_search):\n",
    "    app_id = None\n",
    "    for gid, gname in dict_games.items():\n",
    "        if gname == game_search:\n",
    "            app_id = gid\n",
    "            break\n",
    "    return app_id\n",
    "        \n",
    "app_id = searchID(\"Counter-Strike: Global Offensive\")\n",
    "print(\"AppID: \" + app_id)"
   ]
  },
  {
   "cell_type": "code",
   "execution_count": 96,
   "id": "c5524811",
   "metadata": {},
   "outputs": [
    {
     "name": "stdout",
     "output_type": "stream",
     "text": [
      "None\n"
     ]
    }
   ],
   "source": [
    "# Here, we are trying to access database for game and populate our monthly list with peak number of players for each month\n",
    "\n",
    "list_monthly = []\n",
    "\n",
    "headers = { \"User-Agent\":\"Mozilla/5.0 (X11; Linux x86_64; rv:78.0) Gecko/20100101 Firefox/78.0\" }\n",
    "\n",
    "url = \"http://steamdb.info/app/\"+str(app_id)+\"/graphs/\"\n",
    "src = requests.get(url, headers=headers)\n",
    "bs = BeautifulSoup(src.content, \"html.parser\")\n",
    "\n",
    "# returns None, guessing because table hasn't loaded onto webpage yet\n",
    "table = bs.find('table')\n",
    "print(table)\n",
    "\n",
    "#table = bs.find('table')\n",
    "#table_rows = table.find_all('tr')\n",
    "\n",
    "#for tr in table_rows:\n",
    "#    td = tr.find_all('td')\n",
    "#    row = [i.text for i in td]\n",
    "#    print(row)"
   ]
  },
  {
   "cell_type": "code",
   "execution_count": 95,
   "id": "707de66c",
   "metadata": {},
   "outputs": [
    {
     "name": "stdout",
     "output_type": "stream",
     "text": [
      "503 Error: Service not available\n"
     ]
    }
   ],
   "source": [
    "# Let's try using urllib module instead of requests module\n",
    "# Reference: stackoverflow.com/questions/45448994/wait-page-to-load-before-getting-data-with-requests-get-in-python-3\n",
    "\n",
    "url = \"http://steamdb.info/app/\"+str(app_id)+\"/graphs/\"\n",
    "req = urllib.request.Request(\n",
    "    url,\n",
    "    data=None,\n",
    "    headers=headers\n",
    ")\n",
    "\n",
    "try:\n",
    "    with urllib.request.urlopen(req) as response:\n",
    "        html = response.read().decode('utf-8')\n",
    "        \n",
    "except urllib.request.HTTPError as e:\n",
    "    if e.code == 404:\n",
    "        print(f\"{e.code} Error: URL not found\")\n",
    "    elif e.code == 503:\n",
    "        print(f\"{e.code} Error: Service not available\")\n",
    "    else:\n",
    "        print(\"HTTP Error\")"
   ]
  },
  {
   "cell_type": "code",
   "execution_count": null,
   "id": "41275f47",
   "metadata": {},
   "outputs": [],
   "source": [
    "# 503 Error. Looks like we'll need to find another way to scrape data, one that can mimic a browser. Selenium?"
   ]
  },
  {
   "cell_type": "markdown",
   "id": "3ef625fa",
   "metadata": {},
   "source": [
    "# Using Selenium (Read First)"
   ]
  },
  {
   "cell_type": "code",
   "execution_count": null,
   "id": "2289dda4",
   "metadata": {},
   "outputs": [],
   "source": [
    "# You will need a webdriver.\n",
    "\n",
    "# If you don't get any indication of a webdriver as shown in output,\n",
    "# you may need to follow this guide and install everything in the da2 machine:\n",
    "# https://stackoverflow.com/a/44039546"
   ]
  },
  {
   "cell_type": "code",
   "execution_count": 154,
   "id": "bfbb588f",
   "metadata": {},
   "outputs": [
    {
     "name": "stderr",
     "output_type": "stream",
     "text": [
      "[WDM] - \n",
      "\n",
      "[WDM] - ====== WebDriver manager ======\n",
      "[WDM] - Current google-chrome version is 94.0.4606\n",
      "[WDM] - Get LATEST driver version for 94.0.4606\n",
      "[WDM] - Driver [/home/wjohns53/.wdm/drivers/chromedriver/linux64/94.0.4606.61/chromedriver] found in cache\n"
     ]
    }
   ],
   "source": [
    "# Headers we need\n",
    "from selenium import webdriver\n",
    "from selenium.webdriver.chrome.service import Service\n",
    "from selenium.webdriver.chrome.options import Options\n",
    "from webdriver_manager.chrome import ChromeDriverManager\n",
    "from selenium.webdriver.common.by import By\n",
    "\n",
    "o = Options()\n",
    "o.add_argument('--headless')\n",
    "o.add_argument('--no-sandbox')\n",
    "o.add_argument('--disable-dev-shm-usage')\n",
    "\n",
    "# Let's test out the service\n",
    "s = Service(ChromeDriverManager().install())"
   ]
  },
  {
   "cell_type": "code",
   "execution_count": null,
   "id": "385f9ba4",
   "metadata": {},
   "outputs": [],
   "source": [
    "# Now let's test the driver (we'll use Steam as an example)\n",
    "\n",
    "driver = webdriver.Chrome(service=s, options=o)\n",
    "\n",
    "driver.get(\"http://store.steampowered.com\")\n",
    "html = driver.page_source\n",
    "time.sleep(2)\n",
    "print(html)\n",
    "\n",
    "driver.close"
   ]
  },
  {
   "cell_type": "code",
   "execution_count": null,
   "id": "135bb365",
   "metadata": {},
   "outputs": [],
   "source": []
  }
 ],
 "metadata": {
  "kernelspec": {
   "display_name": "Python 3 (ipykernel)",
   "language": "python",
   "name": "python3"
  },
  "language_info": {
   "codemirror_mode": {
    "name": "ipython",
    "version": 3
   },
   "file_extension": ".py",
   "mimetype": "text/x-python",
   "name": "python",
   "nbconvert_exporter": "python",
   "pygments_lexer": "ipython3",
   "version": "3.8.10"
  }
 },
 "nbformat": 4,
 "nbformat_minor": 5
}
